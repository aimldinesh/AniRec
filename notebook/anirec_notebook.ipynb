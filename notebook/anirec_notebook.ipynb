{
 "cells": [
  {
   "cell_type": "code",
   "execution_count": null,
   "id": "34e51764",
   "metadata": {},
   "outputs": [],
   "source": [
    "import pandas as pd\n",
    "import numpy as np\n",
    "import matplotlib.pyplot as plt\n",
    "\n",
    "import tensorflow as tf\n",
    "from tensorflow.keras import layers\n",
    "from tensorflow.keras.models import Model\n",
    "from tensorflow.keras.optimizers import Adam\n",
    "from tensorflow.keras.layers import (\n",
    "    Activation,\n",
    "    BatchNormalization,\n",
    "    Input,\n",
    "    Embedding,\n",
    "    Dot,\n",
    "    Dense,\n",
    "    Flatten,\n",
    ")\n",
    "from tensorflow.keras.callbacks import (\n",
    "    ModelCheckpoint,\n",
    "    LearningRateScheduler,\n",
    "    TensorBoard,\n",
    "    EarlyStopping,\n",
    ")\n",
    "\n",
    "from wordcloud import WordCloud\n",
    "\n",
    "%matplotlib inline"
   ]
  },
  {
   "cell_type": "markdown",
   "id": "6e2c3068",
   "metadata": {},
   "source": [
    "### Load animelist.csv data "
   ]
  },
  {
   "cell_type": "code",
   "execution_count": null,
   "id": "69ab6747",
   "metadata": {},
   "outputs": [
    {
     "data": {
      "text/html": [
       "<div>\n",
       "<style scoped>\n",
       "    .dataframe tbody tr th:only-of-type {\n",
       "        vertical-align: middle;\n",
       "    }\n",
       "\n",
       "    .dataframe tbody tr th {\n",
       "        vertical-align: top;\n",
       "    }\n",
       "\n",
       "    .dataframe thead th {\n",
       "        text-align: right;\n",
       "    }\n",
       "</style>\n",
       "<table border=\"1\" class=\"dataframe\">\n",
       "  <thead>\n",
       "    <tr style=\"text-align: right;\">\n",
       "      <th></th>\n",
       "      <th>user_id</th>\n",
       "      <th>anime_id</th>\n",
       "      <th>rating</th>\n",
       "    </tr>\n",
       "  </thead>\n",
       "  <tbody>\n",
       "    <tr>\n",
       "      <th>0</th>\n",
       "      <td>0</td>\n",
       "      <td>67</td>\n",
       "      <td>9</td>\n",
       "    </tr>\n",
       "    <tr>\n",
       "      <th>1</th>\n",
       "      <td>0</td>\n",
       "      <td>6702</td>\n",
       "      <td>7</td>\n",
       "    </tr>\n",
       "    <tr>\n",
       "      <th>2</th>\n",
       "      <td>0</td>\n",
       "      <td>242</td>\n",
       "      <td>10</td>\n",
       "    </tr>\n",
       "    <tr>\n",
       "      <th>3</th>\n",
       "      <td>0</td>\n",
       "      <td>4898</td>\n",
       "      <td>0</td>\n",
       "    </tr>\n",
       "    <tr>\n",
       "      <th>4</th>\n",
       "      <td>0</td>\n",
       "      <td>21</td>\n",
       "      <td>10</td>\n",
       "    </tr>\n",
       "  </tbody>\n",
       "</table>\n",
       "</div>"
      ],
      "text/plain": [
       "   user_id  anime_id  rating\n",
       "0        0        67       9\n",
       "1        0      6702       7\n",
       "2        0       242      10\n",
       "3        0      4898       0\n",
       "4        0        21      10"
      ]
     },
     "execution_count": 6,
     "metadata": {},
     "output_type": "execute_result"
    }
   ],
   "source": [
    "import os\n",
    "\n",
    "# Define the path to the input directory containing raw data files\n",
    "INPUT_DIR = os.path.join(\"..\", \"artifacts\", \"raw\")\n",
    "\n",
    "# Read the animelist.csv file using only the relevant columns\n",
    "# We're using low_memory=True for performance and only loading 'user_id', 'anime_id', and 'rating'\n",
    "rating_df = pd.read_csv(\n",
    "    os.path.join(INPUT_DIR, \"animelist.csv\"),\n",
    "    low_memory=True,\n",
    "    usecols=[\"user_id\", \"anime_id\", \"rating\"],\n",
    ")\n",
    "\n",
    "# Show the first few rows of the DataFrame\n",
    "rating_df.head()\n"
   ]
  },
  {
   "cell_type": "code",
   "execution_count": 7,
   "id": "7426c7b3",
   "metadata": {},
   "outputs": [
    {
     "data": {
      "text/plain": [
       "5000000"
      ]
     },
     "execution_count": 7,
     "metadata": {},
     "output_type": "execute_result"
    }
   ],
   "source": [
    "# length\n",
    "len(rating_df)"
   ]
  },
  {
   "cell_type": "markdown",
   "id": "79ceba18",
   "metadata": {},
   "source": [
    "### Data Processing"
   ]
  },
  {
   "cell_type": "code",
   "execution_count": null,
   "id": "fbf7ee1d",
   "metadata": {},
   "outputs": [],
   "source": [
    "# Count how many ratings each user has given\n",
    "n_ratings = rating_df[\"user_id\"].value_counts()\n",
    "\n",
    "# Keep only those users who have rated at least 400 anime\n",
    "# This helps reduce data sparsity and focuses on active users\n",
    "rating_df = rating_df[\n",
    "    rating_df[\"user_id\"].isin(n_ratings[n_ratings >= 400].index)\n",
    "].copy()"
   ]
  },
  {
   "cell_type": "code",
   "execution_count": 9,
   "id": "1529e163",
   "metadata": {},
   "outputs": [
    {
     "name": "stdout",
     "output_type": "stream",
     "text": [
      "Filtered active users count: 4203\n",
      "Total ratings after filtering: 3246641\n"
     ]
    }
   ],
   "source": [
    "print(f\"Filtered active users count: {rating_df['user_id'].nunique()}\")\n",
    "print(f\"Total ratings after filtering: {rating_df.shape[0]}\")"
   ]
  },
  {
   "cell_type": "code",
   "execution_count": 10,
   "id": "636da125",
   "metadata": {},
   "outputs": [],
   "source": [
    "# Get the minimum rating given by any user\n",
    "min_rating = min(rating_df[\"rating\"])\n",
    "\n",
    "# Get the maximum rating given by any user\n",
    "max_rating = max(rating_df[\"rating\"])\n",
    "\n",
    "# Calculate the average (mean) rating across all users and anime\n",
    "avg_rating = np.mean(rating_df[\"rating\"])"
   ]
  },
  {
   "cell_type": "code",
   "execution_count": 11,
   "id": "a81c4a0b",
   "metadata": {},
   "outputs": [
    {
     "name": "stdout",
     "output_type": "stream",
     "text": [
      "Min Rating : 0\n",
      "Max Rating : 10\n",
      "Avg Rating : 4.12\n"
     ]
    }
   ],
   "source": [
    "print(f\"Min Rating : {min_rating}\")\n",
    "print(f\"Max Rating : {max_rating}\")\n",
    "print(f\"Avg Rating : {avg_rating:.2f}\")"
   ]
  },
  {
   "cell_type": "markdown",
   "id": "9dab7f58",
   "metadata": {},
   "source": [
    "#### Normalize Ratings to [0, 1]"
   ]
  },
  {
   "cell_type": "code",
   "execution_count": null,
   "id": "6d4f18f3",
   "metadata": {},
   "outputs": [],
   "source": [
    "# apply Min-Max Normalization to scale ratings between 0 and 1\n",
    "rating_df[\"rating\"] = (\n",
    "    rating_df[\"rating\"]\n",
    "    .apply(lambda x: (x - min_rating) / (max_rating - min_rating))\n",
    "    .values.astype(np.float64)\n",
    ")"
   ]
  },
  {
   "cell_type": "code",
   "execution_count": 13,
   "id": "27966b56",
   "metadata": {},
   "outputs": [
    {
     "name": "stdout",
     "output_type": "stream",
     "text": [
      "After normalization:\n",
      "Min  → 0.0\n",
      "Max  → 1.0\n",
      "Mean → 0.4123\n"
     ]
    }
   ],
   "source": [
    "# Check the scaled values\n",
    "print(\"After normalization:\")\n",
    "print(f\"Min  → {rating_df['rating'].min()}\")\n",
    "print(f\"Max  → {rating_df['rating'].max()}\")\n",
    "print(f\"Mean → {rating_df['rating'].mean():.4f}\")"
   ]
  },
  {
   "cell_type": "markdown",
   "id": "6d21d274",
   "metadata": {},
   "source": [
    "#### Check Duplicates"
   ]
  },
  {
   "cell_type": "code",
   "execution_count": 14,
   "id": "90d8a089",
   "metadata": {},
   "outputs": [
    {
     "data": {
      "text/plain": [
       "np.int64(0)"
      ]
     },
     "execution_count": 14,
     "metadata": {},
     "output_type": "execute_result"
    }
   ],
   "source": [
    "rating_df.duplicated().sum()"
   ]
  },
  {
   "cell_type": "markdown",
   "id": "3fb3c26c",
   "metadata": {},
   "source": [
    "#### Check Missing Values"
   ]
  },
  {
   "cell_type": "code",
   "execution_count": 15,
   "id": "8e51ce2f",
   "metadata": {},
   "outputs": [
    {
     "data": {
      "text/plain": [
       "user_id     0\n",
       "anime_id    0\n",
       "rating      0\n",
       "dtype: int64"
      ]
     },
     "execution_count": 15,
     "metadata": {},
     "output_type": "execute_result"
    }
   ],
   "source": [
    "rating_df.isnull().sum()"
   ]
  },
  {
   "cell_type": "markdown",
   "id": "e4edd0c8",
   "metadata": {},
   "source": [
    "#### Encoding user_id and anime_id\n",
    "- To train a neural recommendation model, we need to convert categorical IDs (user_id and anime_id) into integer indices. This is essential because embedding layers in deep learning models expect input values ranging from 0 to N-1 (where N is the number of unique users or items).\n",
    "\n",
    "  + user_id → user: Encoded user index\n",
    "  + anime_id → anime: Encoded anime index\n",
    "\n",
    "- These encoded values allow us to use efficient embedding layers and ensure stable model training.\n",
    "\n",
    "| Original `anime_id` | Encoded `anime` (Index) |\n",
    "| ------------------- | ----------------------- |\n",
    "| 21                  | 0                       |\n",
    "| 3125                | 1                       |\n",
    "| 67                  | 2                       |\n",
    "| 2104                | 3                       |\n",
    "| 4898                | 4                       |\n",
    "| ...                 | ...                     |\n"
   ]
  },
  {
   "cell_type": "markdown",
   "id": "d133fdf4",
   "metadata": {},
   "source": [
    "#### Encode user_id to Integer for Embedding Layer"
   ]
  },
  {
   "cell_type": "code",
   "execution_count": null,
   "id": "b67857f7",
   "metadata": {},
   "outputs": [],
   "source": [
    "# -----------------------------------------------\n",
    "# Step: Encode `user_id` to Integer Indices\n",
    "# -----------------------------------------------\n",
    "\n",
    "# Extract unique user IDs and convert them to a list\n",
    "user_ids = rating_df[\"user_id\"].unique().tolist()\n",
    "\n",
    "# Create a mapping from original user_id → encoded ID\n",
    "user2user_encoded = {x: i for i, x in enumerate(user_ids)}\n",
    "\n",
    "# Also store the reverse mapping (encoded ID → original user_id)\n",
    "user2user_decoded = {i: x for i, x in enumerate(user_ids)}\n",
    "\n",
    "# Apply the encoding to the dataframe to create a new 'user' column\n",
    "rating_df[\"user\"] = rating_df[\"user_id\"].map(user2user_encoded)"
   ]
  },
  {
   "cell_type": "code",
   "execution_count": 29,
   "id": "046a40a0",
   "metadata": {},
   "outputs": [
    {
     "name": "stdout",
     "output_type": "stream",
     "text": [
      "Number of unique users: 4203\n",
      "   user_id  user\n",
      "0      457   120\n",
      "1     4903  1195\n",
      "2     6313  1591\n",
      "3    15851  4024\n",
      "4     1596   415\n"
     ]
    }
   ],
   "source": [
    "n_users = len(user2user_encoded)\n",
    "print(f\"Number of unique users: {n_users}\")\n",
    "print(rating_df[[\"user_id\", \"user\"]].head())"
   ]
  },
  {
   "cell_type": "markdown",
   "id": "edcdee56",
   "metadata": {},
   "source": [
    "#### Encode anime_id to Integer for Embedding Layer"
   ]
  },
  {
   "cell_type": "code",
   "execution_count": 18,
   "id": "35662378",
   "metadata": {},
   "outputs": [],
   "source": [
    "# -----------------------------------------------\n",
    "# Encode `anime_id` to Integer Indices\n",
    "# -----------------------------------------------\n",
    "\n",
    "# Get a list of all unique anime IDs\n",
    "anime_ids = rating_df[\"anime_id\"].unique().tolist()\n",
    "\n",
    "# Create a mapping from original anime_id → encoded ID (0 to N-1)\n",
    "anime2anime_encoded = {x: i for i, x in enumerate(anime_ids)}\n",
    "\n",
    "# Create a reverse mapping (encoded ID → original anime_id)\n",
    "anime2anime_decoded = {i: x for i, x in enumerate(anime_ids)}\n",
    "\n",
    "# Apply the encoding to the dataframe to create a new 'anime' column\n",
    "rating_df[\"anime\"] = rating_df[\"anime_id\"].map(anime2anime_encoded)"
   ]
  },
  {
   "cell_type": "code",
   "execution_count": 30,
   "id": "5183bf32",
   "metadata": {},
   "outputs": [
    {
     "name": "stdout",
     "output_type": "stream",
     "text": [
      "Unique animes encoded: 17149\n",
      "   anime_id  anime\n",
      "0     18153   1377\n",
      "1     20507   1216\n",
      "2     23325   1239\n",
      "3     37491   1813\n",
      "4     29803    353\n"
     ]
    }
   ],
   "source": [
    "n_anime = len(anime2anime_encoded)\n",
    "print(f\"Unique animes encoded: {n_anime}\")\n",
    "print(rating_df[[\"anime_id\", \"anime\"]].head())"
   ]
  },
  {
   "cell_type": "markdown",
   "id": "f0e286b7",
   "metadata": {},
   "source": [
    "#### Shuffle the Dataset"
   ]
  },
  {
   "cell_type": "code",
   "execution_count": 20,
   "id": "caa8c1c6",
   "metadata": {},
   "outputs": [],
   "source": [
    "# Shuffle the entire DataFrame to remove any ordering bias\n",
    "# frac=1 means 100% of data is used, random_state ensures reproducibility\n",
    "rating_df = rating_df.sample(frac=1, random_state=43).reset_index(drop=True)"
   ]
  },
  {
   "cell_type": "code",
   "execution_count": 21,
   "id": "a6c78053",
   "metadata": {},
   "outputs": [
    {
     "data": {
      "text/html": [
       "<div>\n",
       "<style scoped>\n",
       "    .dataframe tbody tr th:only-of-type {\n",
       "        vertical-align: middle;\n",
       "    }\n",
       "\n",
       "    .dataframe tbody tr th {\n",
       "        vertical-align: top;\n",
       "    }\n",
       "\n",
       "    .dataframe thead th {\n",
       "        text-align: right;\n",
       "    }\n",
       "</style>\n",
       "<table border=\"1\" class=\"dataframe\">\n",
       "  <thead>\n",
       "    <tr style=\"text-align: right;\">\n",
       "      <th></th>\n",
       "      <th>user_id</th>\n",
       "      <th>anime_id</th>\n",
       "      <th>rating</th>\n",
       "      <th>user</th>\n",
       "      <th>anime</th>\n",
       "    </tr>\n",
       "  </thead>\n",
       "  <tbody>\n",
       "    <tr>\n",
       "      <th>0</th>\n",
       "      <td>457</td>\n",
       "      <td>18153</td>\n",
       "      <td>0.9</td>\n",
       "      <td>120</td>\n",
       "      <td>1377</td>\n",
       "    </tr>\n",
       "    <tr>\n",
       "      <th>1</th>\n",
       "      <td>4903</td>\n",
       "      <td>20507</td>\n",
       "      <td>0.7</td>\n",
       "      <td>1195</td>\n",
       "      <td>1216</td>\n",
       "    </tr>\n",
       "    <tr>\n",
       "      <th>2</th>\n",
       "      <td>6313</td>\n",
       "      <td>23325</td>\n",
       "      <td>0.0</td>\n",
       "      <td>1591</td>\n",
       "      <td>1239</td>\n",
       "    </tr>\n",
       "    <tr>\n",
       "      <th>3</th>\n",
       "      <td>15851</td>\n",
       "      <td>37491</td>\n",
       "      <td>0.0</td>\n",
       "      <td>4024</td>\n",
       "      <td>1813</td>\n",
       "    </tr>\n",
       "    <tr>\n",
       "      <th>4</th>\n",
       "      <td>1596</td>\n",
       "      <td>29803</td>\n",
       "      <td>0.9</td>\n",
       "      <td>415</td>\n",
       "      <td>353</td>\n",
       "    </tr>\n",
       "  </tbody>\n",
       "</table>\n",
       "</div>"
      ],
      "text/plain": [
       "   user_id  anime_id  rating  user  anime\n",
       "0      457     18153     0.9   120   1377\n",
       "1     4903     20507     0.7  1195   1216\n",
       "2     6313     23325     0.0  1591   1239\n",
       "3    15851     37491     0.0  4024   1813\n",
       "4     1596     29803     0.9   415    353"
      ]
     },
     "execution_count": 21,
     "metadata": {},
     "output_type": "execute_result"
    }
   ],
   "source": [
    "rating_df.head()"
   ]
  },
  {
   "cell_type": "markdown",
   "id": "8a464283",
   "metadata": {},
   "source": [
    "#### Create Feature Matrix X and Target Vector y"
   ]
  },
  {
   "cell_type": "code",
   "execution_count": 22,
   "id": "b706a218",
   "metadata": {},
   "outputs": [],
   "source": [
    "# X contains pairs of encoded user and anime IDs\n",
    "X = rating_df[[\"user\", \"anime\"]].values\n",
    "\n",
    "# y contains the corresponding normalized ratings\n",
    "y = rating_df[\"rating\"]"
   ]
  },
  {
   "cell_type": "markdown",
   "id": "84ffc67e",
   "metadata": {},
   "source": [
    "#### Train–Test Split (Last 1000 for Testing)"
   ]
  },
  {
   "cell_type": "code",
   "execution_count": 23,
   "id": "d5a8df9c",
   "metadata": {},
   "outputs": [],
   "source": [
    "# ------------------------------------------------------\n",
    "# Train-Test Split with Fixed Test Size = 1000\n",
    "# ------------------------------------------------------\n",
    "\n",
    "# Set aside the last 1000 samples for testing\n",
    "test_size = 1000\n",
    "\n",
    "# Calculate how many samples go into training\n",
    "train_indices = rating_df.shape[0] - test_size\n",
    "\n",
    "# Manual split into training and test sets\n",
    "X_train, X_test, y_train, y_test = (\n",
    "    X[:train_indices],\n",
    "    X[train_indices:],\n",
    "    y[:train_indices],\n",
    "    y[train_indices:],\n",
    ")"
   ]
  },
  {
   "cell_type": "code",
   "execution_count": 24,
   "id": "c0930822",
   "metadata": {},
   "outputs": [
    {
     "name": "stdout",
     "output_type": "stream",
     "text": [
      "X_train:\n",
      " [[ 120 1377]\n",
      " [1195 1216]\n",
      " [1591 1239]\n",
      " [4024 1813]\n",
      " [ 415  353]]\n",
      "\n",
      "X_test:\n",
      " [[  266  1513]\n",
      " [ 2572  1623]\n",
      " [ 2555 12942]\n",
      " [  658  1068]\n",
      " [   88  4390]]\n",
      "\n",
      "y_train:\n",
      " [0.9 0.7 0.  0.  0.9]\n",
      "\n",
      "y_test:\n",
      " [0.  0.  0.2 1.  0.9]\n"
     ]
    }
   ],
   "source": [
    "print(\"X_train:\\n\", X_train[:5])\n",
    "print(\"\\nX_test:\\n\", X_test[:5])\n",
    "\n",
    "print(\"\\ny_train:\\n\", y_train[:5].values)\n",
    "print(\"\\ny_test:\\n\", y_test[:5].values)"
   ]
  },
  {
   "cell_type": "code",
   "execution_count": 25,
   "id": "00af603b",
   "metadata": {},
   "outputs": [
    {
     "name": "stdout",
     "output_type": "stream",
     "text": [
      "Length of X_train: 3245641\n",
      "Length of y_train: 3245641\n",
      "Length of X_test: 1000\n",
      "Length of y_test: 1000\n"
     ]
    }
   ],
   "source": [
    "print(\"Length of X_train:\", len(X_train))\n",
    "print(\"Length of y_train:\", len(y_train))\n",
    "\n",
    "print(\"Length of X_test:\", len(X_test))\n",
    "print(\"Length of y_test:\", len(y_test))"
   ]
  },
  {
   "cell_type": "markdown",
   "id": "9cdf8fb3",
   "metadata": {},
   "source": [
    "#### Prepare Model Inputs for Training"
   ]
  },
  {
   "cell_type": "code",
   "execution_count": 27,
   "id": "85bbb017",
   "metadata": {},
   "outputs": [],
   "source": [
    "# ---------------------------------------------------\n",
    "# Split Feature Matrix into Separate Inputs\n",
    "# ---------------------------------------------------\n",
    "\n",
    "# X_train[:, 0] → user indices\n",
    "# X_train[:, 1] → anime indices\n",
    "\n",
    "# Keras expects inputs to be fed separately for each embedding\n",
    "X_train_array = [X_train[:, 0], X_train[:, 1]]\n",
    "X_test_array = [X_test[:, 0], X_test[:, 1]]"
   ]
  },
  {
   "cell_type": "code",
   "execution_count": 28,
   "id": "6e26faa8",
   "metadata": {},
   "outputs": [
    {
     "name": "stdout",
     "output_type": "stream",
     "text": [
      "2\n",
      "(3245641,)\n",
      "(3245641,)\n"
     ]
    }
   ],
   "source": [
    "print(len(X_train_array))  # 2 → [user_input, anime_input]\n",
    "print(X_train_array[0].shape)  # (N_train,)\n",
    "print(X_train_array[1].shape)  # (N_train,)"
   ]
  },
  {
   "cell_type": "markdown",
   "id": "c45deab9",
   "metadata": {},
   "source": [
    "### Define the Recommender Model – RecommenderNet"
   ]
  },
  {
   "cell_type": "code",
   "execution_count": 31,
   "id": "6d82d86e",
   "metadata": {},
   "outputs": [],
   "source": [
    "# ----------------------------------------\n",
    "# Define the Neural Collaborative Filtering Model\n",
    "# ----------------------------------------\n",
    "\n",
    "\n",
    "def RecommenderNet():\n",
    "    embedding_size = 128  # 🔧 Number of latent factors for each user/anime\n",
    "    # 🧍 User input\n",
    "    user = Input(name=\"user\", shape=[1])\n",
    "    user_embedding = Embedding(\n",
    "        input_dim=n_users,  # total unique users\n",
    "        output_dim=embedding_size,  # embedding size\n",
    "        name=\"user_embedding\",\n",
    "    )(user)\n",
    "\n",
    "    # 📺 Anime input\n",
    "    anime = Input(name=\"anime\", shape=[1])\n",
    "    anime_embedding = Embedding(\n",
    "        input_dim=n_anime,  # total unique animes\n",
    "        output_dim=embedding_size,  # embedding size\n",
    "        name=\"anime_embedding\",\n",
    "    )(anime)\n",
    "\n",
    "    # 🔗 Combine embeddings with normalized dot product(check similary)\n",
    "    x = Dot(axes=2, normalize=True, name=\"dot_product\")(\n",
    "        [user_embedding, anime_embedding]\n",
    "    )\n",
    "\n",
    "    # 📤 Output prediction layer\n",
    "    x = Flatten()(x)\n",
    "    x = Dense(1, kernel_initializer=\"he_normal\")(x)\n",
    "    x = BatchNormalization()(x)\n",
    "    x = Activation(\"sigmoid\")(x)  # normalized rating output between 0 and 1\n",
    "\n",
    "    # 🔧 Compile the model\n",
    "    model = Model(inputs=[user, anime], outputs=x)\n",
    "    model.compile(\n",
    "        loss=\"binary_crossentropy\",  # suitable for sigmoid + normalized rating\n",
    "        optimizer=Adam(),\n",
    "        metrics=[\"mae\", \"mse\"],\n",
    "    )\n",
    "\n",
    "    return model\n"
   ]
  },
  {
   "cell_type": "code",
   "execution_count": 32,
   "id": "6fe84efa",
   "metadata": {},
   "outputs": [],
   "source": [
    "model = RecommenderNet()"
   ]
  },
  {
   "cell_type": "code",
   "execution_count": 33,
   "id": "1e0a3ba4",
   "metadata": {},
   "outputs": [
    {
     "data": {
      "text/html": [
       "<pre style=\"white-space:pre;overflow-x:auto;line-height:normal;font-family:Menlo,'DejaVu Sans Mono',consolas,'Courier New',monospace\"><span style=\"font-weight: bold\">Model: \"functional\"</span>\n",
       "</pre>\n"
      ],
      "text/plain": [
       "\u001b[1mModel: \"functional\"\u001b[0m\n"
      ]
     },
     "metadata": {},
     "output_type": "display_data"
    },
    {
     "data": {
      "text/html": [
       "<pre style=\"white-space:pre;overflow-x:auto;line-height:normal;font-family:Menlo,'DejaVu Sans Mono',consolas,'Courier New',monospace\">┏━━━━━━━━━━━━━━━━━━━━━┳━━━━━━━━━━━━━━━━━━━┳━━━━━━━━━━━━┳━━━━━━━━━━━━━━━━━━━┓\n",
       "┃<span style=\"font-weight: bold\"> Layer (type)        </span>┃<span style=\"font-weight: bold\"> Output Shape      </span>┃<span style=\"font-weight: bold\">    Param # </span>┃<span style=\"font-weight: bold\"> Connected to      </span>┃\n",
       "┡━━━━━━━━━━━━━━━━━━━━━╇━━━━━━━━━━━━━━━━━━━╇━━━━━━━━━━━━╇━━━━━━━━━━━━━━━━━━━┩\n",
       "│ user (<span style=\"color: #0087ff; text-decoration-color: #0087ff\">InputLayer</span>)   │ (<span style=\"color: #00d7ff; text-decoration-color: #00d7ff\">None</span>, <span style=\"color: #00af00; text-decoration-color: #00af00\">1</span>)         │          <span style=\"color: #00af00; text-decoration-color: #00af00\">0</span> │ -                 │\n",
       "├─────────────────────┼───────────────────┼────────────┼───────────────────┤\n",
       "│ anime (<span style=\"color: #0087ff; text-decoration-color: #0087ff\">InputLayer</span>)  │ (<span style=\"color: #00d7ff; text-decoration-color: #00d7ff\">None</span>, <span style=\"color: #00af00; text-decoration-color: #00af00\">1</span>)         │          <span style=\"color: #00af00; text-decoration-color: #00af00\">0</span> │ -                 │\n",
       "├─────────────────────┼───────────────────┼────────────┼───────────────────┤\n",
       "│ user_embedding      │ (<span style=\"color: #00d7ff; text-decoration-color: #00d7ff\">None</span>, <span style=\"color: #00af00; text-decoration-color: #00af00\">1</span>, <span style=\"color: #00af00; text-decoration-color: #00af00\">128</span>)    │    <span style=\"color: #00af00; text-decoration-color: #00af00\">537,984</span> │ user[<span style=\"color: #00af00; text-decoration-color: #00af00\">0</span>][<span style=\"color: #00af00; text-decoration-color: #00af00\">0</span>]        │\n",
       "│ (<span style=\"color: #0087ff; text-decoration-color: #0087ff\">Embedding</span>)         │                   │            │                   │\n",
       "├─────────────────────┼───────────────────┼────────────┼───────────────────┤\n",
       "│ anime_embedding     │ (<span style=\"color: #00d7ff; text-decoration-color: #00d7ff\">None</span>, <span style=\"color: #00af00; text-decoration-color: #00af00\">1</span>, <span style=\"color: #00af00; text-decoration-color: #00af00\">128</span>)    │  <span style=\"color: #00af00; text-decoration-color: #00af00\">2,195,072</span> │ anime[<span style=\"color: #00af00; text-decoration-color: #00af00\">0</span>][<span style=\"color: #00af00; text-decoration-color: #00af00\">0</span>]       │\n",
       "│ (<span style=\"color: #0087ff; text-decoration-color: #0087ff\">Embedding</span>)         │                   │            │                   │\n",
       "├─────────────────────┼───────────────────┼────────────┼───────────────────┤\n",
       "│ dot_product (<span style=\"color: #0087ff; text-decoration-color: #0087ff\">Dot</span>)   │ (<span style=\"color: #00d7ff; text-decoration-color: #00d7ff\">None</span>, <span style=\"color: #00af00; text-decoration-color: #00af00\">1</span>, <span style=\"color: #00af00; text-decoration-color: #00af00\">1</span>)      │          <span style=\"color: #00af00; text-decoration-color: #00af00\">0</span> │ user_embedding[<span style=\"color: #00af00; text-decoration-color: #00af00\">0</span>… │\n",
       "│                     │                   │            │ anime_embedding[<span style=\"color: #00af00; text-decoration-color: #00af00\">…</span> │\n",
       "├─────────────────────┼───────────────────┼────────────┼───────────────────┤\n",
       "│ flatten (<span style=\"color: #0087ff; text-decoration-color: #0087ff\">Flatten</span>)   │ (<span style=\"color: #00d7ff; text-decoration-color: #00d7ff\">None</span>, <span style=\"color: #00af00; text-decoration-color: #00af00\">1</span>)         │          <span style=\"color: #00af00; text-decoration-color: #00af00\">0</span> │ dot_product[<span style=\"color: #00af00; text-decoration-color: #00af00\">0</span>][<span style=\"color: #00af00; text-decoration-color: #00af00\">0</span>] │\n",
       "├─────────────────────┼───────────────────┼────────────┼───────────────────┤\n",
       "│ dense (<span style=\"color: #0087ff; text-decoration-color: #0087ff\">Dense</span>)       │ (<span style=\"color: #00d7ff; text-decoration-color: #00d7ff\">None</span>, <span style=\"color: #00af00; text-decoration-color: #00af00\">1</span>)         │          <span style=\"color: #00af00; text-decoration-color: #00af00\">2</span> │ flatten[<span style=\"color: #00af00; text-decoration-color: #00af00\">0</span>][<span style=\"color: #00af00; text-decoration-color: #00af00\">0</span>]     │\n",
       "├─────────────────────┼───────────────────┼────────────┼───────────────────┤\n",
       "│ batch_normalization │ (<span style=\"color: #00d7ff; text-decoration-color: #00d7ff\">None</span>, <span style=\"color: #00af00; text-decoration-color: #00af00\">1</span>)         │          <span style=\"color: #00af00; text-decoration-color: #00af00\">4</span> │ dense[<span style=\"color: #00af00; text-decoration-color: #00af00\">0</span>][<span style=\"color: #00af00; text-decoration-color: #00af00\">0</span>]       │\n",
       "│ (<span style=\"color: #0087ff; text-decoration-color: #0087ff\">BatchNormalizatio…</span> │                   │            │                   │\n",
       "├─────────────────────┼───────────────────┼────────────┼───────────────────┤\n",
       "│ activation          │ (<span style=\"color: #00d7ff; text-decoration-color: #00d7ff\">None</span>, <span style=\"color: #00af00; text-decoration-color: #00af00\">1</span>)         │          <span style=\"color: #00af00; text-decoration-color: #00af00\">0</span> │ batch_normalizat… │\n",
       "│ (<span style=\"color: #0087ff; text-decoration-color: #0087ff\">Activation</span>)        │                   │            │                   │\n",
       "└─────────────────────┴───────────────────┴────────────┴───────────────────┘\n",
       "</pre>\n"
      ],
      "text/plain": [
       "┏━━━━━━━━━━━━━━━━━━━━━┳━━━━━━━━━━━━━━━━━━━┳━━━━━━━━━━━━┳━━━━━━━━━━━━━━━━━━━┓\n",
       "┃\u001b[1m \u001b[0m\u001b[1mLayer (type)       \u001b[0m\u001b[1m \u001b[0m┃\u001b[1m \u001b[0m\u001b[1mOutput Shape     \u001b[0m\u001b[1m \u001b[0m┃\u001b[1m \u001b[0m\u001b[1m   Param #\u001b[0m\u001b[1m \u001b[0m┃\u001b[1m \u001b[0m\u001b[1mConnected to     \u001b[0m\u001b[1m \u001b[0m┃\n",
       "┡━━━━━━━━━━━━━━━━━━━━━╇━━━━━━━━━━━━━━━━━━━╇━━━━━━━━━━━━╇━━━━━━━━━━━━━━━━━━━┩\n",
       "│ user (\u001b[38;5;33mInputLayer\u001b[0m)   │ (\u001b[38;5;45mNone\u001b[0m, \u001b[38;5;34m1\u001b[0m)         │          \u001b[38;5;34m0\u001b[0m │ -                 │\n",
       "├─────────────────────┼───────────────────┼────────────┼───────────────────┤\n",
       "│ anime (\u001b[38;5;33mInputLayer\u001b[0m)  │ (\u001b[38;5;45mNone\u001b[0m, \u001b[38;5;34m1\u001b[0m)         │          \u001b[38;5;34m0\u001b[0m │ -                 │\n",
       "├─────────────────────┼───────────────────┼────────────┼───────────────────┤\n",
       "│ user_embedding      │ (\u001b[38;5;45mNone\u001b[0m, \u001b[38;5;34m1\u001b[0m, \u001b[38;5;34m128\u001b[0m)    │    \u001b[38;5;34m537,984\u001b[0m │ user[\u001b[38;5;34m0\u001b[0m][\u001b[38;5;34m0\u001b[0m]        │\n",
       "│ (\u001b[38;5;33mEmbedding\u001b[0m)         │                   │            │                   │\n",
       "├─────────────────────┼───────────────────┼────────────┼───────────────────┤\n",
       "│ anime_embedding     │ (\u001b[38;5;45mNone\u001b[0m, \u001b[38;5;34m1\u001b[0m, \u001b[38;5;34m128\u001b[0m)    │  \u001b[38;5;34m2,195,072\u001b[0m │ anime[\u001b[38;5;34m0\u001b[0m][\u001b[38;5;34m0\u001b[0m]       │\n",
       "│ (\u001b[38;5;33mEmbedding\u001b[0m)         │                   │            │                   │\n",
       "├─────────────────────┼───────────────────┼────────────┼───────────────────┤\n",
       "│ dot_product (\u001b[38;5;33mDot\u001b[0m)   │ (\u001b[38;5;45mNone\u001b[0m, \u001b[38;5;34m1\u001b[0m, \u001b[38;5;34m1\u001b[0m)      │          \u001b[38;5;34m0\u001b[0m │ user_embedding[\u001b[38;5;34m0\u001b[0m… │\n",
       "│                     │                   │            │ anime_embedding[\u001b[38;5;34m…\u001b[0m │\n",
       "├─────────────────────┼───────────────────┼────────────┼───────────────────┤\n",
       "│ flatten (\u001b[38;5;33mFlatten\u001b[0m)   │ (\u001b[38;5;45mNone\u001b[0m, \u001b[38;5;34m1\u001b[0m)         │          \u001b[38;5;34m0\u001b[0m │ dot_product[\u001b[38;5;34m0\u001b[0m][\u001b[38;5;34m0\u001b[0m] │\n",
       "├─────────────────────┼───────────────────┼────────────┼───────────────────┤\n",
       "│ dense (\u001b[38;5;33mDense\u001b[0m)       │ (\u001b[38;5;45mNone\u001b[0m, \u001b[38;5;34m1\u001b[0m)         │          \u001b[38;5;34m2\u001b[0m │ flatten[\u001b[38;5;34m0\u001b[0m][\u001b[38;5;34m0\u001b[0m]     │\n",
       "├─────────────────────┼───────────────────┼────────────┼───────────────────┤\n",
       "│ batch_normalization │ (\u001b[38;5;45mNone\u001b[0m, \u001b[38;5;34m1\u001b[0m)         │          \u001b[38;5;34m4\u001b[0m │ dense[\u001b[38;5;34m0\u001b[0m][\u001b[38;5;34m0\u001b[0m]       │\n",
       "│ (\u001b[38;5;33mBatchNormalizatio…\u001b[0m │                   │            │                   │\n",
       "├─────────────────────┼───────────────────┼────────────┼───────────────────┤\n",
       "│ activation          │ (\u001b[38;5;45mNone\u001b[0m, \u001b[38;5;34m1\u001b[0m)         │          \u001b[38;5;34m0\u001b[0m │ batch_normalizat… │\n",
       "│ (\u001b[38;5;33mActivation\u001b[0m)        │                   │            │                   │\n",
       "└─────────────────────┴───────────────────┴────────────┴───────────────────┘\n"
      ]
     },
     "metadata": {},
     "output_type": "display_data"
    },
    {
     "data": {
      "text/html": [
       "<pre style=\"white-space:pre;overflow-x:auto;line-height:normal;font-family:Menlo,'DejaVu Sans Mono',consolas,'Courier New',monospace\"><span style=\"font-weight: bold\"> Total params: </span><span style=\"color: #00af00; text-decoration-color: #00af00\">2,733,062</span> (10.43 MB)\n",
       "</pre>\n"
      ],
      "text/plain": [
       "\u001b[1m Total params: \u001b[0m\u001b[38;5;34m2,733,062\u001b[0m (10.43 MB)\n"
      ]
     },
     "metadata": {},
     "output_type": "display_data"
    },
    {
     "data": {
      "text/html": [
       "<pre style=\"white-space:pre;overflow-x:auto;line-height:normal;font-family:Menlo,'DejaVu Sans Mono',consolas,'Courier New',monospace\"><span style=\"font-weight: bold\"> Trainable params: </span><span style=\"color: #00af00; text-decoration-color: #00af00\">2,733,060</span> (10.43 MB)\n",
       "</pre>\n"
      ],
      "text/plain": [
       "\u001b[1m Trainable params: \u001b[0m\u001b[38;5;34m2,733,060\u001b[0m (10.43 MB)\n"
      ]
     },
     "metadata": {},
     "output_type": "display_data"
    },
    {
     "data": {
      "text/html": [
       "<pre style=\"white-space:pre;overflow-x:auto;line-height:normal;font-family:Menlo,'DejaVu Sans Mono',consolas,'Courier New',monospace\"><span style=\"font-weight: bold\"> Non-trainable params: </span><span style=\"color: #00af00; text-decoration-color: #00af00\">2</span> (8.00 B)\n",
       "</pre>\n"
      ],
      "text/plain": [
       "\u001b[1m Non-trainable params: \u001b[0m\u001b[38;5;34m2\u001b[0m (8.00 B)\n"
      ]
     },
     "metadata": {},
     "output_type": "display_data"
    }
   ],
   "source": [
    "model.summary()"
   ]
  },
  {
   "cell_type": "markdown",
   "id": "6432fdac",
   "metadata": {},
   "source": [
    "### Define Custom Learning Rate Schedule"
   ]
  },
  {
   "cell_type": "code",
   "execution_count": null,
   "id": "abe43a4f",
   "metadata": {},
   "outputs": [],
   "source": [
    "# --------------------------------------------------------\n",
    "# - Define Learning Rate Function for Training Schedule\n",
    "# - Gradually increase LR for 'ramup_epochs'\n",
    "# - Optionally hold (sustain) for few epochs\n",
    "# - Then exponentially decay LR\n",
    "# --------------------------------------------------------\n",
    "\n",
    "start_lr = 1e-5  # Initial learning rate (very small)\n",
    "min_lr = 1e-4  # Minimum learning rate after decay\n",
    "max_lr = 5e-5  # Peak learning rate after ramp-up\n",
    "batch_size = 10000  # For info/logging (not directly used here)\n",
    "\n",
    "ramup_epochs = 5  # Number of warm-up epochs\n",
    "sustain_epochs = 0  # Number of sustain (flat peak) epochs\n",
    "exp_decay = 0.8  # Exponential decay factor after peak\n",
    "\n",
    "\n",
    "def lrfn(epoch):\n",
    "    if epoch < ramup_epochs:\n",
    "        # 📈 Linear ramp-up\n",
    "        return (max_lr - start_lr) / ramup_epochs * epoch + start_lr\n",
    "    elif epoch < ramup_epochs + sustain_epochs:\n",
    "        # ➖ Sustain max_lr\n",
    "        return max_lr\n",
    "    else:\n",
    "        # 📉 Exponential decay\n",
    "        return (max_lr - min_lr) * exp_decay ** (\n",
    "            epoch - ramup_epochs - sustain_epochs\n",
    "        ) + min_lr"
   ]
  },
  {
   "cell_type": "markdown",
   "id": "7a2b426f",
   "metadata": {},
   "source": [
    "### Define Training Callbacks"
   ]
  },
  {
   "cell_type": "code",
   "execution_count": null,
   "id": "7452f5ec",
   "metadata": {},
   "outputs": [],
   "source": [
    "# Learning Rate Scheduler using lrfn\n",
    "lr_callback = LearningRateScheduler(lambda epoch: lrfn(epoch), verbose=0)\n",
    "\n",
    "# Model Checkpoint: Save best weights during training\n",
    "checkpoint_filepath = \"./weights.weights.h5\"\n",
    "model_checkpoint = ModelCheckpoint(\n",
    "    filepath=checkpoint_filepath,\n",
    "    save_weights_only=True,\n",
    "    monitor=\"val_loss\",  # Watch validation loss\n",
    "    mode=\"min\",  # Save when val_loss is at minimum\n",
    "    save_best_only=True,  # Only save the best weights\n",
    ")\n",
    "\n",
    "# Early Stopping: Stop training early if no improvement\n",
    "early_stopping = EarlyStopping(\n",
    "    patience=3,  # Stop after 3 epochs with no improvement\n",
    "    monitor=\"val_loss\",  # Monitor validation loss\n",
    "    mode=\"min\",\n",
    "    restore_best_weights=True,\n",
    ")"
   ]
  },
  {
   "cell_type": "markdown",
   "id": "29a68c5b",
   "metadata": {},
   "source": [
    "#### Combine All Training Callbacks"
   ]
  },
  {
   "cell_type": "code",
   "execution_count": null,
   "id": "9e41a8e0",
   "metadata": {},
   "outputs": [],
   "source": [
    "# Combine all callbacks into a list for training\n",
    "my_callbacks = [\n",
    "    model_checkpoint,  # Save best weights\n",
    "    lr_callback,  # Custom learning rate schedule\n",
    "    early_stopping,  # Stop early if no val_loss improvement\n",
    "]"
   ]
  },
  {
   "cell_type": "markdown",
   "id": "07001267",
   "metadata": {},
   "source": [
    "#### Model Training: Fit Recommender System"
   ]
  },
  {
   "cell_type": "code",
   "execution_count": null,
   "id": "d1d51e66",
   "metadata": {},
   "outputs": [
    {
     "name": "stdout",
     "output_type": "stream",
     "text": [
      "Epoch 1/20\n",
      "\u001b[1m325/325\u001b[0m \u001b[32m━━━━━━━━━━━━━━━━━━━━\u001b[0m\u001b[37m\u001b[0m \u001b[1m133s\u001b[0m 370ms/step - loss: 0.6941 - mae: 0.3611 - mse: 0.1560 - val_loss: 0.6927 - val_mae: 0.3607 - val_mse: 0.1555 - learning_rate: 1.0000e-05\n",
      "Epoch 2/20\n",
      "\u001b[1m325/325\u001b[0m \u001b[32m━━━━━━━━━━━━━━━━━━━━\u001b[0m\u001b[37m\u001b[0m \u001b[1m158s\u001b[0m 418ms/step - loss: 0.6934 - mae: 0.3609 - mse: 0.1556 - val_loss: 0.6920 - val_mae: 0.3607 - val_mse: 0.1552 - learning_rate: 1.8000e-05\n",
      "Epoch 3/20\n",
      "\u001b[1m325/325\u001b[0m \u001b[32m━━━━━━━━━━━━━━━━━━━━\u001b[0m\u001b[37m\u001b[0m \u001b[1m134s\u001b[0m 390ms/step - loss: 0.6924 - mae: 0.3607 - mse: 0.1551 - val_loss: 0.6909 - val_mae: 0.3607 - val_mse: 0.1546 - learning_rate: 2.6000e-05\n",
      "Epoch 4/20\n",
      "\u001b[1m325/325\u001b[0m \u001b[32m━━━━━━━━━━━━━━━━━━━━\u001b[0m\u001b[37m\u001b[0m \u001b[1m160s\u001b[0m 435ms/step - loss: 0.6912 - mae: 0.3607 - mse: 0.1546 - val_loss: 0.6900 - val_mae: 0.3608 - val_mse: 0.1542 - learning_rate: 3.4000e-05\n",
      "Epoch 5/20\n",
      "\u001b[1m325/325\u001b[0m \u001b[32m━━━━━━━━━━━━━━━━━━━━\u001b[0m\u001b[37m\u001b[0m \u001b[1m117s\u001b[0m 354ms/step - loss: 0.6900 - mae: 0.3605 - mse: 0.1539 - val_loss: 0.6891 - val_mae: 0.3607 - val_mse: 0.1537 - learning_rate: 4.2000e-05\n",
      "Epoch 6/20\n",
      "\u001b[1m325/325\u001b[0m \u001b[32m━━━━━━━━━━━━━━━━━━━━\u001b[0m\u001b[37m\u001b[0m \u001b[1m141s\u001b[0m 348ms/step - loss: 0.6882 - mae: 0.3600 - mse: 0.1530 - val_loss: 0.6881 - val_mae: 0.3603 - val_mse: 0.1532 - learning_rate: 5.0000e-05\n",
      "Epoch 7/20\n",
      "\u001b[1m325/325\u001b[0m \u001b[32m━━━━━━━━━━━━━━━━━━━━\u001b[0m\u001b[37m\u001b[0m \u001b[1m140s\u001b[0m 339ms/step - loss: 0.6830 - mae: 0.3573 - mse: 0.1505 - val_loss: 0.6746 - val_mae: 0.3497 - val_mse: 0.1466 - learning_rate: 6.0000e-05\n",
      "Epoch 8/20\n",
      "\u001b[1m325/325\u001b[0m \u001b[32m━━━━━━━━━━━━━━━━━━━━\u001b[0m\u001b[37m\u001b[0m \u001b[1m144s\u001b[0m 341ms/step - loss: 0.6480 - mae: 0.3317 - mse: 0.1336 - val_loss: 0.6100 - val_mae: 0.2954 - val_mse: 0.1164 - learning_rate: 6.8000e-05\n",
      "Epoch 9/20\n",
      "\u001b[1m325/325\u001b[0m \u001b[32m━━━━━━━━━━━━━━━━━━━━\u001b[0m\u001b[37m\u001b[0m \u001b[1m158s\u001b[0m 373ms/step - loss: 0.5875 - mae: 0.2815 - mse: 0.1060 - val_loss: 0.5793 - val_mae: 0.2694 - val_mse: 0.1032 - learning_rate: 7.4400e-05\n",
      "Epoch 10/20\n",
      "\u001b[1m325/325\u001b[0m \u001b[32m━━━━━━━━━━━━━━━━━━━━\u001b[0m\u001b[37m\u001b[0m \u001b[1m115s\u001b[0m 289ms/step - loss: 0.5609 - mae: 0.2587 - mse: 0.0948 - val_loss: 0.5618 - val_mae: 0.2564 - val_mse: 0.0959 - learning_rate: 7.9520e-05\n",
      "Epoch 11/20\n",
      "\u001b[1m325/325\u001b[0m \u001b[32m━━━━━━━━━━━━━━━━━━━━\u001b[0m\u001b[37m\u001b[0m \u001b[1m142s\u001b[0m 289ms/step - loss: 0.5443 - mae: 0.2455 - mse: 0.0880 - val_loss: 0.5513 - val_mae: 0.2483 - val_mse: 0.0917 - learning_rate: 8.3616e-05\n",
      "Epoch 12/20\n",
      "\u001b[1m325/325\u001b[0m \u001b[32m━━━━━━━━━━━━━━━━━━━━\u001b[0m\u001b[37m\u001b[0m \u001b[1m140s\u001b[0m 283ms/step - loss: 0.5317 - mae: 0.2356 - mse: 0.0828 - val_loss: 0.5435 - val_mae: 0.2424 - val_mse: 0.0887 - learning_rate: 8.6893e-05\n",
      "Epoch 13/20\n",
      "\u001b[1m325/325\u001b[0m \u001b[32m━━━━━━━━━━━━━━━━━━━━\u001b[0m\u001b[37m\u001b[0m \u001b[1m130s\u001b[0m 245ms/step - loss: 0.5209 - mae: 0.2276 - mse: 0.0785 - val_loss: 0.5378 - val_mae: 0.2380 - val_mse: 0.0864 - learning_rate: 8.9514e-05\n",
      "Epoch 14/20\n",
      "\u001b[1m325/325\u001b[0m \u001b[32m━━━━━━━━━━━━━━━━━━━━\u001b[0m\u001b[37m\u001b[0m \u001b[1m85s\u001b[0m 254ms/step - loss: 0.5108 - mae: 0.2202 - mse: 0.0745 - val_loss: 0.5321 - val_mae: 0.2341 - val_mse: 0.0842 - learning_rate: 9.1611e-05\n",
      "Epoch 15/20\n",
      "\u001b[1m325/325\u001b[0m \u001b[32m━━━━━━━━━━━━━━━━━━━━\u001b[0m\u001b[37m\u001b[0m \u001b[1m143s\u001b[0m 256ms/step - loss: 0.5013 - mae: 0.2134 - mse: 0.0706 - val_loss: 0.5275 - val_mae: 0.2307 - val_mse: 0.0825 - learning_rate: 9.3289e-05\n",
      "Epoch 16/20\n",
      "\u001b[1m325/325\u001b[0m \u001b[32m━━━━━━━━━━━━━━━━━━━━\u001b[0m\u001b[37m\u001b[0m \u001b[1m140s\u001b[0m 250ms/step - loss: 0.4930 - mae: 0.2072 - mse: 0.0673 - val_loss: 0.5240 - val_mae: 0.2280 - val_mse: 0.0812 - learning_rate: 9.4631e-05\n",
      "Epoch 17/20\n",
      "\u001b[1m325/325\u001b[0m \u001b[32m━━━━━━━━━━━━━━━━━━━━\u001b[0m\u001b[37m\u001b[0m \u001b[1m83s\u001b[0m 254ms/step - loss: 0.4846 - mae: 0.2014 - mse: 0.0642 - val_loss: 0.5211 - val_mae: 0.2258 - val_mse: 0.0802 - learning_rate: 9.5705e-05\n",
      "Epoch 18/20\n",
      "\u001b[1m325/325\u001b[0m \u001b[32m━━━━━━━━━━━━━━━━━━━━\u001b[0m\u001b[37m\u001b[0m \u001b[1m134s\u001b[0m 227ms/step - loss: 0.4771 - mae: 0.1956 - mse: 0.0612 - val_loss: 0.5195 - val_mae: 0.2242 - val_mse: 0.0796 - learning_rate: 9.6564e-05\n",
      "Epoch 19/20\n",
      "\u001b[1m325/325\u001b[0m \u001b[32m━━━━━━━━━━━━━━━━━━━━\u001b[0m\u001b[37m\u001b[0m \u001b[1m81s\u001b[0m 224ms/step - loss: 0.4700 - mae: 0.1906 - mse: 0.0586 - val_loss: 0.5182 - val_mae: 0.2228 - val_mse: 0.0793 - learning_rate: 9.7251e-05\n",
      "Epoch 20/20\n",
      "\u001b[1m325/325\u001b[0m \u001b[32m━━━━━━━━━━━━━━━━━━━━\u001b[0m\u001b[37m\u001b[0m \u001b[1m83s\u001b[0m 226ms/step - loss: 0.4636 - mae: 0.1855 - mse: 0.0561 - val_loss: 0.5178 - val_mae: 0.2218 - val_mse: 0.0793 - learning_rate: 9.7801e-05\n"
     ]
    }
   ],
   "source": [
    "history = model.fit(\n",
    "    x=X_train_array,  # 🧍‍♂️👾 User-Anime input pairs\n",
    "    y=y_train,  # 🎯 Normalized ratings\n",
    "    batch_size=batch_size,  # 🔄 Number of samples per gradient update\n",
    "    epochs=20,  # 🕒 Max training epochs\n",
    "    verbose=1,  # 📢 Show progress\n",
    "    validation_data=(X_test_array, y_test),  # 🧪 Evaluate on test set\n",
    "    callbacks=my_callbacks,  # ⏹️ EarlyStopping + 📉 LR Scheduler + 💾 ModelCheckpoint\n",
    ")"
   ]
  },
  {
   "cell_type": "markdown",
   "id": "9d6d110c",
   "metadata": {},
   "source": [
    "#### Visualize Training & Validation Metrics"
   ]
  },
  {
   "cell_type": "code",
   "execution_count": 38,
   "id": "f56362c5",
   "metadata": {},
   "outputs": [
    {
     "data": {
      "image/png": "[encoded data removed]",
      "text/plain": [
       "<Figure size 800x1200 with 3 Axes>"
      ]
     },
     "metadata": {},
     "output_type": "display_data"
    }
   ],
   "source": [
    "# Metrics to track\n",
    "metrics = [\"loss\", \"mae\", \"mse\"]\n",
    "\n",
    "# Create subplots for each metric\n",
    "fig, axes = plt.subplots(len(metrics), 1, figsize=(8, len(metrics) * 4))\n",
    "\n",
    "for i, metric in enumerate(metrics):\n",
    "    ax = axes[i]\n",
    "\n",
    "    # Plot training metric\n",
    "    ax.plot(history.history[metric], marker=\"o\", label=f\"Train {metric}\")\n",
    "\n",
    "    # Plot validation metric\n",
    "    ax.plot(history.history[f\"val_{metric}\"], marker=\"o\", label=f\"Val {metric}\")\n",
    "\n",
    "    ax.set_title(f\"Model {metric.upper()} over Epochs\")\n",
    "    ax.set_xlabel(\"Epoch\")\n",
    "    ax.set_ylabel(metric.upper())\n",
    "    ax.legend(loc=\"upper right\")\n",
    "    ax.grid(True)\n",
    "\n",
    "plt.tight_layout()\n",
    "plt.show()\n"
   ]
  },
  {
   "cell_type": "markdown",
   "id": "e8fd652c",
   "metadata": {},
   "source": [
    "####  Extract and Normalize Embedding Weights"
   ]
  },
  {
   "cell_type": "code",
   "execution_count": 39,
   "id": "4d8789a0",
   "metadata": {},
   "outputs": [],
   "source": [
    "def extract_weights(name, model):\n",
    "    \"\"\"\n",
    "    Extracts and normalizes embedding weights from the specified layer in a Keras model.\n",
    "\n",
    "    Parameters:\n",
    "        name (str): Name of the embedding layer (e.g., \"user_embedding\", \"anime_embedding\").\n",
    "        model (Model): Trained Keras model.\n",
    "\n",
    "    Returns:\n",
    "        np.ndarray: L2-normalized embedding weights (shape: [num_items, embedding_dim]).\n",
    "    \"\"\"\n",
    "    #  Get embedding layer by name\n",
    "    weight_layer = model.get_layer(name)\n",
    "\n",
    "    # Get the weight matrix\n",
    "    weights = weight_layer.get_weights()[0]  # shape: (num_users/animes, embedding_dim)\n",
    "\n",
    "    # Normalize each embedding vector (L2 norm = 1)\n",
    "    weights = weights / np.linalg.norm(weights, axis=1, keepdims=True)\n",
    "\n",
    "    return weights"
   ]
  },
  {
   "cell_type": "code",
   "execution_count": null,
   "id": "2279297f",
   "metadata": {},
   "outputs": [],
   "source": [
    "anime_weights = extract_weights(\"anime_embedding\", model)\n",
    "user_weights = extract_weights(\"user_embedding\", model)"
   ]
  },
  {
   "cell_type": "markdown",
   "id": "d5b302c4",
   "metadata": {},
   "source": [
    "### Load Anime Metadata (anime.csv) "
   ]
  },
  {
   "cell_type": "code",
   "execution_count": 42,
   "id": "a62487b3",
   "metadata": {},
   "outputs": [
    {
     "data": {
      "text/html": [
       "<div>\n",
       "<style scoped>\n",
       "    .dataframe tbody tr th:only-of-type {\n",
       "        vertical-align: middle;\n",
       "    }\n",
       "\n",
       "    .dataframe tbody tr th {\n",
       "        vertical-align: top;\n",
       "    }\n",
       "\n",
       "    .dataframe thead th {\n",
       "        text-align: right;\n",
       "    }\n",
       "</style>\n",
       "<table border=\"1\" class=\"dataframe\">\n",
       "  <thead>\n",
       "    <tr style=\"text-align: right;\">\n",
       "      <th></th>\n",
       "      <th>MAL_ID</th>\n",
       "      <th>Name</th>\n",
       "      <th>Score</th>\n",
       "      <th>Genres</th>\n",
       "      <th>English name</th>\n",
       "      <th>Japanese name</th>\n",
       "      <th>Type</th>\n",
       "      <th>Episodes</th>\n",
       "      <th>Aired</th>\n",
       "      <th>Premiered</th>\n",
       "      <th>...</th>\n",
       "      <th>Score-10</th>\n",
       "      <th>Score-9</th>\n",
       "      <th>Score-8</th>\n",
       "      <th>Score-7</th>\n",
       "      <th>Score-6</th>\n",
       "      <th>Score-5</th>\n",
       "      <th>Score-4</th>\n",
       "      <th>Score-3</th>\n",
       "      <th>Score-2</th>\n",
       "      <th>Score-1</th>\n",
       "    </tr>\n",
       "  </thead>\n",
       "  <tbody>\n",
       "    <tr>\n",
       "      <th>0</th>\n",
       "      <td>1</td>\n",
       "      <td>Cowboy Bebop</td>\n",
       "      <td>8.78</td>\n",
       "      <td>Action, Adventure, Comedy, Drama, Sci-Fi, Space</td>\n",
       "      <td>Cowboy Bebop</td>\n",
       "      <td>カウボーイビバップ</td>\n",
       "      <td>TV</td>\n",
       "      <td>26</td>\n",
       "      <td>Apr 3, 1998 to Apr 24, 1999</td>\n",
       "      <td>Spring 1998</td>\n",
       "      <td>...</td>\n",
       "      <td>229170.0</td>\n",
       "      <td>182126.0</td>\n",
       "      <td>131625.0</td>\n",
       "      <td>62330.0</td>\n",
       "      <td>20688.0</td>\n",
       "      <td>8904.0</td>\n",
       "      <td>3184.0</td>\n",
       "      <td>1357.0</td>\n",
       "      <td>741.0</td>\n",
       "      <td>1580.0</td>\n",
       "    </tr>\n",
       "    <tr>\n",
       "      <th>1</th>\n",
       "      <td>5</td>\n",
       "      <td>Cowboy Bebop: Tengoku no Tobira</td>\n",
       "      <td>8.39</td>\n",
       "      <td>Action, Drama, Mystery, Sci-Fi, Space</td>\n",
       "      <td>Cowboy Bebop:The Movie</td>\n",
       "      <td>カウボーイビバップ 天国の扉</td>\n",
       "      <td>Movie</td>\n",
       "      <td>1</td>\n",
       "      <td>Sep 1, 2001</td>\n",
       "      <td>Unknown</td>\n",
       "      <td>...</td>\n",
       "      <td>30043.0</td>\n",
       "      <td>49201.0</td>\n",
       "      <td>49505.0</td>\n",
       "      <td>22632.0</td>\n",
       "      <td>5805.0</td>\n",
       "      <td>1877.0</td>\n",
       "      <td>577.0</td>\n",
       "      <td>221.0</td>\n",
       "      <td>109.0</td>\n",
       "      <td>379.0</td>\n",
       "    </tr>\n",
       "    <tr>\n",
       "      <th>2</th>\n",
       "      <td>6</td>\n",
       "      <td>Trigun</td>\n",
       "      <td>8.24</td>\n",
       "      <td>Action, Sci-Fi, Adventure, Comedy, Drama, Shounen</td>\n",
       "      <td>Trigun</td>\n",
       "      <td>トライガン</td>\n",
       "      <td>TV</td>\n",
       "      <td>26</td>\n",
       "      <td>Apr 1, 1998 to Sep 30, 1998</td>\n",
       "      <td>Spring 1998</td>\n",
       "      <td>...</td>\n",
       "      <td>50229.0</td>\n",
       "      <td>75651.0</td>\n",
       "      <td>86142.0</td>\n",
       "      <td>49432.0</td>\n",
       "      <td>15376.0</td>\n",
       "      <td>5838.0</td>\n",
       "      <td>1965.0</td>\n",
       "      <td>664.0</td>\n",
       "      <td>316.0</td>\n",
       "      <td>533.0</td>\n",
       "    </tr>\n",
       "    <tr>\n",
       "      <th>3</th>\n",
       "      <td>7</td>\n",
       "      <td>Witch Hunter Robin</td>\n",
       "      <td>7.27</td>\n",
       "      <td>Action, Mystery, Police, Supernatural, Drama, ...</td>\n",
       "      <td>Witch Hunter Robin</td>\n",
       "      <td>Witch Hunter ROBIN (ウイッチハンターロビン)</td>\n",
       "      <td>TV</td>\n",
       "      <td>26</td>\n",
       "      <td>Jul 2, 2002 to Dec 24, 2002</td>\n",
       "      <td>Summer 2002</td>\n",
       "      <td>...</td>\n",
       "      <td>2182.0</td>\n",
       "      <td>4806.0</td>\n",
       "      <td>10128.0</td>\n",
       "      <td>11618.0</td>\n",
       "      <td>5709.0</td>\n",
       "      <td>2920.0</td>\n",
       "      <td>1083.0</td>\n",
       "      <td>353.0</td>\n",
       "      <td>164.0</td>\n",
       "      <td>131.0</td>\n",
       "    </tr>\n",
       "    <tr>\n",
       "      <th>4</th>\n",
       "      <td>8</td>\n",
       "      <td>Bouken Ou Beet</td>\n",
       "      <td>6.98</td>\n",
       "      <td>Adventure, Fantasy, Shounen, Supernatural</td>\n",
       "      <td>Beet the Vandel Buster</td>\n",
       "      <td>冒険王ビィト</td>\n",
       "      <td>TV</td>\n",
       "      <td>52</td>\n",
       "      <td>Sep 30, 2004 to Sep 29, 2005</td>\n",
       "      <td>Fall 2004</td>\n",
       "      <td>...</td>\n",
       "      <td>312.0</td>\n",
       "      <td>529.0</td>\n",
       "      <td>1242.0</td>\n",
       "      <td>1713.0</td>\n",
       "      <td>1068.0</td>\n",
       "      <td>634.0</td>\n",
       "      <td>265.0</td>\n",
       "      <td>83.0</td>\n",
       "      <td>50.0</td>\n",
       "      <td>27.0</td>\n",
       "    </tr>\n",
       "  </tbody>\n",
       "</table>\n",
       "<p>5 rows × 35 columns</p>\n",
       "</div>"
      ],
      "text/plain": [
       "   MAL_ID                             Name Score  \\\n",
       "0       1                     Cowboy Bebop  8.78   \n",
       "1       5  Cowboy Bebop: Tengoku no Tobira  8.39   \n",
       "2       6                           Trigun  8.24   \n",
       "3       7               Witch Hunter Robin  7.27   \n",
       "4       8                   Bouken Ou Beet  6.98   \n",
       "\n",
       "                                              Genres            English name  \\\n",
       "0    Action, Adventure, Comedy, Drama, Sci-Fi, Space            Cowboy Bebop   \n",
       "1              Action, Drama, Mystery, Sci-Fi, Space  Cowboy Bebop:The Movie   \n",
       "2  Action, Sci-Fi, Adventure, Comedy, Drama, Shounen                  Trigun   \n",
       "3  Action, Mystery, Police, Supernatural, Drama, ...      Witch Hunter Robin   \n",
       "4          Adventure, Fantasy, Shounen, Supernatural  Beet the Vandel Buster   \n",
       "\n",
       "                      Japanese name   Type Episodes  \\\n",
       "0                         カウボーイビバップ     TV       26   \n",
       "1                    カウボーイビバップ 天国の扉  Movie        1   \n",
       "2                             トライガン     TV       26   \n",
       "3  Witch Hunter ROBIN (ウイッチハンターロビン)     TV       26   \n",
       "4                            冒険王ビィト     TV       52   \n",
       "\n",
       "                          Aired    Premiered  ...  Score-10   Score-9  \\\n",
       "0   Apr 3, 1998 to Apr 24, 1999  Spring 1998  ...  229170.0  182126.0   \n",
       "1                   Sep 1, 2001      Unknown  ...   30043.0   49201.0   \n",
       "2   Apr 1, 1998 to Sep 30, 1998  Spring 1998  ...   50229.0   75651.0   \n",
       "3   Jul 2, 2002 to Dec 24, 2002  Summer 2002  ...    2182.0    4806.0   \n",
       "4  Sep 30, 2004 to Sep 29, 2005    Fall 2004  ...     312.0     529.0   \n",
       "\n",
       "    Score-8  Score-7  Score-6 Score-5 Score-4  Score-3  Score-2  Score-1  \n",
       "0  131625.0  62330.0  20688.0  8904.0  3184.0   1357.0    741.0   1580.0  \n",
       "1   49505.0  22632.0   5805.0  1877.0   577.0    221.0    109.0    379.0  \n",
       "2   86142.0  49432.0  15376.0  5838.0  1965.0    664.0    316.0    533.0  \n",
       "3   10128.0  11618.0   5709.0  2920.0  1083.0    353.0    164.0    131.0  \n",
       "4    1242.0   1713.0   1068.0   634.0   265.0     83.0     50.0     27.0  \n",
       "\n",
       "[5 rows x 35 columns]"
      ]
     },
     "execution_count": 42,
     "metadata": {},
     "output_type": "execute_result"
    }
   ],
   "source": [
    "# Load the anime metadata file\n",
    "df = pd.read_csv(INPUT_DIR + \"/anime.csv\", low_memory=True)\n",
    "\n",
    "# Display the first few rows\n",
    "df.head()"
   ]
  },
  {
   "cell_type": "code",
   "execution_count": 43,
   "id": "e4a212c7",
   "metadata": {},
   "outputs": [],
   "source": [
    "# # Replace all \"Unknown\" strings with proper NaN values\n",
    "df = df.replace(\"Unknown\", np.nan)"
   ]
  },
  {
   "cell_type": "markdown",
   "id": "567837dd",
   "metadata": {},
   "source": [
    "####  Helper Function: Get Anime Name by anime_id"
   ]
  },
  {
   "cell_type": "code",
   "execution_count": 47,
   "id": "52210fcf",
   "metadata": {},
   "outputs": [],
   "source": [
    "# Make sure correct column references exist\n",
    "df[\"anime_id\"] = df[\"MAL_ID\"]\n",
    "df[\"eng_version\"] = df[\"English name\"]"
   ]
  },
  {
   "cell_type": "code",
   "execution_count": null,
   "id": "d5ca41a4",
   "metadata": {},
   "outputs": [],
   "source": [
    "# Define the helper function properly\n",
    "def getAnimeName(anime_id):\n",
    "    \"\"\"\n",
    "    Fetch the English name of an anime using its anime_id.\n",
    "    Falls back to Japanese name if English name is not available.\n",
    "\n",
    "    Parameters:\n",
    "        anime_id (int): Unique ID of the anime\n",
    "\n",
    "    Returns:\n",
    "        str: Anime name (English or fallback)\n",
    "    \"\"\"\n",
    "    try:\n",
    "        row = df[df[\"anime_id\"] == anime_id]\n",
    "        if not row.empty:\n",
    "            name = row[\"eng_version\"].values[0]\n",
    "            if pd.isna(name):\n",
    "                name = row[\"Name\"].values[0]\n",
    "            return name\n",
    "        else:\n",
    "            return \"Anime ID not found\"\n",
    "    except Exception as e:\n",
    "        print(\"Error:\", e)\n",
    "        return \"Unknown Anime\""
   ]
  },
  {
   "cell_type": "code",
   "execution_count": 54,
   "id": "c2169249",
   "metadata": {},
   "outputs": [
    {
     "data": {
      "text/plain": [
       "'Ninkuu'"
      ]
     },
     "execution_count": 54,
     "metadata": {},
     "output_type": "execute_result"
    }
   ],
   "source": [
    "# Test\n",
    "getAnimeName(912)"
   ]
  },
  {
   "cell_type": "code",
   "execution_count": 50,
   "id": "eb6c8ca4",
   "metadata": {},
   "outputs": [
    {
     "data": {
      "text/html": [
       "<div>\n",
       "<style scoped>\n",
       "    .dataframe tbody tr th:only-of-type {\n",
       "        vertical-align: middle;\n",
       "    }\n",
       "\n",
       "    .dataframe tbody tr th {\n",
       "        vertical-align: top;\n",
       "    }\n",
       "\n",
       "    .dataframe thead th {\n",
       "        text-align: right;\n",
       "    }\n",
       "</style>\n",
       "<table border=\"1\" class=\"dataframe\">\n",
       "  <thead>\n",
       "    <tr style=\"text-align: right;\">\n",
       "      <th></th>\n",
       "      <th>MAL_ID</th>\n",
       "      <th>Name</th>\n",
       "      <th>Score</th>\n",
       "      <th>Genres</th>\n",
       "      <th>English name</th>\n",
       "      <th>Japanese name</th>\n",
       "      <th>Type</th>\n",
       "      <th>Episodes</th>\n",
       "      <th>Aired</th>\n",
       "      <th>Premiered</th>\n",
       "      <th>...</th>\n",
       "      <th>Score-8</th>\n",
       "      <th>Score-7</th>\n",
       "      <th>Score-6</th>\n",
       "      <th>Score-5</th>\n",
       "      <th>Score-4</th>\n",
       "      <th>Score-3</th>\n",
       "      <th>Score-2</th>\n",
       "      <th>Score-1</th>\n",
       "      <th>anime_id</th>\n",
       "      <th>eng_version</th>\n",
       "    </tr>\n",
       "  </thead>\n",
       "  <tbody>\n",
       "    <tr>\n",
       "      <th>0</th>\n",
       "      <td>1</td>\n",
       "      <td>Cowboy Bebop</td>\n",
       "      <td>8.78</td>\n",
       "      <td>Action, Adventure, Comedy, Drama, Sci-Fi, Space</td>\n",
       "      <td>Cowboy Bebop</td>\n",
       "      <td>カウボーイビバップ</td>\n",
       "      <td>TV</td>\n",
       "      <td>26</td>\n",
       "      <td>Apr 3, 1998 to Apr 24, 1999</td>\n",
       "      <td>Spring 1998</td>\n",
       "      <td>...</td>\n",
       "      <td>131625.0</td>\n",
       "      <td>62330.0</td>\n",
       "      <td>20688.0</td>\n",
       "      <td>8904.0</td>\n",
       "      <td>3184.0</td>\n",
       "      <td>1357.0</td>\n",
       "      <td>741.0</td>\n",
       "      <td>1580.0</td>\n",
       "      <td>1</td>\n",
       "      <td>Cowboy Bebop</td>\n",
       "    </tr>\n",
       "  </tbody>\n",
       "</table>\n",
       "<p>1 rows × 37 columns</p>\n",
       "</div>"
      ],
      "text/plain": [
       "   MAL_ID          Name Score  \\\n",
       "0       1  Cowboy Bebop  8.78   \n",
       "\n",
       "                                            Genres  English name  \\\n",
       "0  Action, Adventure, Comedy, Drama, Sci-Fi, Space  Cowboy Bebop   \n",
       "\n",
       "  Japanese name Type Episodes                        Aired    Premiered  ...  \\\n",
       "0     カウボーイビバップ   TV       26  Apr 3, 1998 to Apr 24, 1999  Spring 1998  ...   \n",
       "\n",
       "    Score-8  Score-7  Score-6 Score-5 Score-4 Score-3 Score-2  Score-1  \\\n",
       "0  131625.0  62330.0  20688.0  8904.0  3184.0  1357.0   741.0   1580.0   \n",
       "\n",
       "   anime_id   eng_version  \n",
       "0         1  Cowboy Bebop  \n",
       "\n",
       "[1 rows x 37 columns]"
      ]
     },
     "execution_count": 50,
     "metadata": {},
     "output_type": "execute_result"
    }
   ],
   "source": [
    "df.head(1)"
   ]
  },
  {
   "cell_type": "markdown",
   "id": "7598ace9",
   "metadata": {},
   "source": [
    "#### Sort Anime by Score (Descending)"
   ]
  },
  {
   "cell_type": "code",
   "execution_count": null,
   "id": "87197acf",
   "metadata": {},
   "outputs": [],
   "source": [
    "# Sort the anime dataset based on 'Score' in descending order\n",
    "# to prioritize high-rated anime. Missing scores go to the end.\n",
    "df.sort_values(\n",
    "    by=[\"Score\"],  # Sort by the 'Score' column\n",
    "    ascending=False,  # High to low\n",
    "    inplace=True,  # Modify the DataFrame in-place\n",
    "    kind=\"quicksort\",  # Sorting algorithm\n",
    "    na_position=\"last\",  # Place NaN values at the bottom\n",
    ")\n"
   ]
  },
  {
   "cell_type": "code",
   "execution_count": 56,
   "id": "606fc255",
   "metadata": {},
   "outputs": [
    {
     "data": {
      "text/html": [
       "<div>\n",
       "<style scoped>\n",
       "    .dataframe tbody tr th:only-of-type {\n",
       "        vertical-align: middle;\n",
       "    }\n",
       "\n",
       "    .dataframe tbody tr th {\n",
       "        vertical-align: top;\n",
       "    }\n",
       "\n",
       "    .dataframe thead th {\n",
       "        text-align: right;\n",
       "    }\n",
       "</style>\n",
       "<table border=\"1\" class=\"dataframe\">\n",
       "  <thead>\n",
       "    <tr style=\"text-align: right;\">\n",
       "      <th></th>\n",
       "      <th>MAL_ID</th>\n",
       "      <th>Name</th>\n",
       "      <th>Score</th>\n",
       "      <th>Genres</th>\n",
       "      <th>English name</th>\n",
       "      <th>Japanese name</th>\n",
       "      <th>Type</th>\n",
       "      <th>Episodes</th>\n",
       "      <th>Aired</th>\n",
       "      <th>Premiered</th>\n",
       "      <th>...</th>\n",
       "      <th>Score-8</th>\n",
       "      <th>Score-7</th>\n",
       "      <th>Score-6</th>\n",
       "      <th>Score-5</th>\n",
       "      <th>Score-4</th>\n",
       "      <th>Score-3</th>\n",
       "      <th>Score-2</th>\n",
       "      <th>Score-1</th>\n",
       "      <th>anime_id</th>\n",
       "      <th>eng_version</th>\n",
       "    </tr>\n",
       "  </thead>\n",
       "  <tbody>\n",
       "    <tr>\n",
       "      <th>3971</th>\n",
       "      <td>5114</td>\n",
       "      <td>Fullmetal Alchemist: Brotherhood</td>\n",
       "      <td>9.19</td>\n",
       "      <td>Action, Military, Adventure, Comedy, Drama, Ma...</td>\n",
       "      <td>Fullmetal Alchemist:Brotherhood</td>\n",
       "      <td>鋼の錬金術師 FULLMETAL ALCHEMIST</td>\n",
       "      <td>TV</td>\n",
       "      <td>64</td>\n",
       "      <td>Apr 5, 2009 to Jul 4, 2010</td>\n",
       "      <td>Spring 2009</td>\n",
       "      <td>...</td>\n",
       "      <td>199160.0</td>\n",
       "      <td>70045.0</td>\n",
       "      <td>20210.0</td>\n",
       "      <td>9308.0</td>\n",
       "      <td>3222.0</td>\n",
       "      <td>1536.0</td>\n",
       "      <td>2162.0</td>\n",
       "      <td>16806.0</td>\n",
       "      <td>5114</td>\n",
       "      <td>Fullmetal Alchemist:Brotherhood</td>\n",
       "    </tr>\n",
       "    <tr>\n",
       "      <th>15926</th>\n",
       "      <td>40028</td>\n",
       "      <td>Shingeki no Kyojin: The Final Season</td>\n",
       "      <td>9.17</td>\n",
       "      <td>Action, Military, Mystery, Super Power, Drama,...</td>\n",
       "      <td>Attack on Titan Final Season</td>\n",
       "      <td>進撃の巨人 The Final Season</td>\n",
       "      <td>TV</td>\n",
       "      <td>16</td>\n",
       "      <td>Dec 7, 2020 to ?</td>\n",
       "      <td>Winter 2021</td>\n",
       "      <td>...</td>\n",
       "      <td>26016.0</td>\n",
       "      <td>8793.0</td>\n",
       "      <td>2674.0</td>\n",
       "      <td>1336.0</td>\n",
       "      <td>588.0</td>\n",
       "      <td>382.0</td>\n",
       "      <td>514.0</td>\n",
       "      <td>11061.0</td>\n",
       "      <td>40028</td>\n",
       "      <td>Attack on Titan Final Season</td>\n",
       "    </tr>\n",
       "    <tr>\n",
       "      <th>5683</th>\n",
       "      <td>9253</td>\n",
       "      <td>Steins;Gate</td>\n",
       "      <td>9.11</td>\n",
       "      <td>Thriller, Sci-Fi</td>\n",
       "      <td>Steins;Gate</td>\n",
       "      <td>STEINS;GATE</td>\n",
       "      <td>TV</td>\n",
       "      <td>24</td>\n",
       "      <td>Apr 6, 2011 to Sep 14, 2011</td>\n",
       "      <td>Spring 2011</td>\n",
       "      <td>...</td>\n",
       "      <td>140914.0</td>\n",
       "      <td>57740.0</td>\n",
       "      <td>21375.0</td>\n",
       "      <td>11126.0</td>\n",
       "      <td>5061.0</td>\n",
       "      <td>2292.0</td>\n",
       "      <td>1678.0</td>\n",
       "      <td>5255.0</td>\n",
       "      <td>9253</td>\n",
       "      <td>Steins;Gate</td>\n",
       "    </tr>\n",
       "    <tr>\n",
       "      <th>14963</th>\n",
       "      <td>38524</td>\n",
       "      <td>Shingeki no Kyojin Season 3 Part 2</td>\n",
       "      <td>9.1</td>\n",
       "      <td>Action, Drama, Fantasy, Military, Mystery, Sho...</td>\n",
       "      <td>Attack on Titan Season 3 Part 2</td>\n",
       "      <td>進撃の巨人 Season3 Part.2</td>\n",
       "      <td>TV</td>\n",
       "      <td>10</td>\n",
       "      <td>Apr 29, 2019 to Jul 1, 2019</td>\n",
       "      <td>Spring 2019</td>\n",
       "      <td>...</td>\n",
       "      <td>110481.0</td>\n",
       "      <td>33662.0</td>\n",
       "      <td>8365.0</td>\n",
       "      <td>2974.0</td>\n",
       "      <td>1108.0</td>\n",
       "      <td>550.0</td>\n",
       "      <td>385.0</td>\n",
       "      <td>4169.0</td>\n",
       "      <td>38524</td>\n",
       "      <td>Attack on Titan Season 3 Part 2</td>\n",
       "    </tr>\n",
       "    <tr>\n",
       "      <th>9913</th>\n",
       "      <td>28977</td>\n",
       "      <td>Gintama°</td>\n",
       "      <td>9.1</td>\n",
       "      <td>Action, Comedy, Historical, Parody, Samurai, S...</td>\n",
       "      <td>Gintama Season 4</td>\n",
       "      <td>銀魂°</td>\n",
       "      <td>TV</td>\n",
       "      <td>51</td>\n",
       "      <td>Apr 8, 2015 to Mar 30, 2016</td>\n",
       "      <td>Spring 2015</td>\n",
       "      <td>...</td>\n",
       "      <td>21360.0</td>\n",
       "      <td>10215.0</td>\n",
       "      <td>3898.0</td>\n",
       "      <td>2311.0</td>\n",
       "      <td>952.0</td>\n",
       "      <td>648.0</td>\n",
       "      <td>1100.0</td>\n",
       "      <td>4508.0</td>\n",
       "      <td>28977</td>\n",
       "      <td>Gintama Season 4</td>\n",
       "    </tr>\n",
       "  </tbody>\n",
       "</table>\n",
       "<p>5 rows × 37 columns</p>\n",
       "</div>"
      ],
      "text/plain": [
       "       MAL_ID                                  Name Score  \\\n",
       "3971     5114      Fullmetal Alchemist: Brotherhood  9.19   \n",
       "15926   40028  Shingeki no Kyojin: The Final Season  9.17   \n",
       "5683     9253                           Steins;Gate  9.11   \n",
       "14963   38524    Shingeki no Kyojin Season 3 Part 2   9.1   \n",
       "9913    28977                              Gintama°   9.1   \n",
       "\n",
       "                                                  Genres  \\\n",
       "3971   Action, Military, Adventure, Comedy, Drama, Ma...   \n",
       "15926  Action, Military, Mystery, Super Power, Drama,...   \n",
       "5683                                    Thriller, Sci-Fi   \n",
       "14963  Action, Drama, Fantasy, Military, Mystery, Sho...   \n",
       "9913   Action, Comedy, Historical, Parody, Samurai, S...   \n",
       "\n",
       "                          English name               Japanese name Type  \\\n",
       "3971   Fullmetal Alchemist:Brotherhood  鋼の錬金術師 FULLMETAL ALCHEMIST   TV   \n",
       "15926     Attack on Titan Final Season      進撃の巨人 The Final Season   TV   \n",
       "5683                       Steins;Gate                 STEINS;GATE   TV   \n",
       "14963  Attack on Titan Season 3 Part 2        進撃の巨人 Season3 Part.2   TV   \n",
       "9913                  Gintama Season 4                         銀魂°   TV   \n",
       "\n",
       "      Episodes                        Aired    Premiered  ...   Score-8  \\\n",
       "3971        64   Apr 5, 2009 to Jul 4, 2010  Spring 2009  ...  199160.0   \n",
       "15926       16             Dec 7, 2020 to ?  Winter 2021  ...   26016.0   \n",
       "5683        24  Apr 6, 2011 to Sep 14, 2011  Spring 2011  ...  140914.0   \n",
       "14963       10  Apr 29, 2019 to Jul 1, 2019  Spring 2019  ...  110481.0   \n",
       "9913        51  Apr 8, 2015 to Mar 30, 2016  Spring 2015  ...   21360.0   \n",
       "\n",
       "       Score-7  Score-6  Score-5 Score-4 Score-3 Score-2  Score-1  anime_id  \\\n",
       "3971   70045.0  20210.0   9308.0  3222.0  1536.0  2162.0  16806.0      5114   \n",
       "15926   8793.0   2674.0   1336.0   588.0   382.0   514.0  11061.0     40028   \n",
       "5683   57740.0  21375.0  11126.0  5061.0  2292.0  1678.0   5255.0      9253   \n",
       "14963  33662.0   8365.0   2974.0  1108.0   550.0   385.0   4169.0     38524   \n",
       "9913   10215.0   3898.0   2311.0   952.0   648.0  1100.0   4508.0     28977   \n",
       "\n",
       "                           eng_version  \n",
       "3971   Fullmetal Alchemist:Brotherhood  \n",
       "15926     Attack on Titan Final Season  \n",
       "5683                       Steins;Gate  \n",
       "14963  Attack on Titan Season 3 Part 2  \n",
       "9913                  Gintama Season 4  \n",
       "\n",
       "[5 rows x 37 columns]"
      ]
     },
     "execution_count": 56,
     "metadata": {},
     "output_type": "execute_result"
    }
   ],
   "source": [
    "df.head()"
   ]
  },
  {
   "cell_type": "code",
   "execution_count": 57,
   "id": "01e38970",
   "metadata": {},
   "outputs": [
    {
     "data": {
      "text/plain": [
       "Index(['MAL_ID', 'Name', 'Score', 'Genres', 'English name', 'Japanese name',\n",
       "       'Type', 'Episodes', 'Aired', 'Premiered', 'Producers', 'Licensors',\n",
       "       'Studios', 'Source', 'Duration', 'Rating', 'Ranked', 'Popularity',\n",
       "       'Members', 'Favorites', 'Watching', 'Completed', 'On-Hold', 'Dropped',\n",
       "       'Plan to Watch', 'Score-10', 'Score-9', 'Score-8', 'Score-7', 'Score-6',\n",
       "       'Score-5', 'Score-4', 'Score-3', 'Score-2', 'Score-1', 'anime_id',\n",
       "       'eng_version'],\n",
       "      dtype='object')"
      ]
     },
     "execution_count": 57,
     "metadata": {},
     "output_type": "execute_result"
    }
   ],
   "source": [
    "df.columns"
   ]
  },
  {
   "cell_type": "markdown",
   "id": "4435573d",
   "metadata": {},
   "source": [
    "#### Select Important Anime Columns"
   ]
  },
  {
   "cell_type": "code",
   "execution_count": null,
   "id": "b68aa924",
   "metadata": {},
   "outputs": [],
   "source": [
    "# Keep only selected important columns for modeling or displaying recommendations\n",
    "df = df[\n",
    "    [\n",
    "        \"anime_id\",  # Unique ID for each anime\n",
    "        \"eng_version\",  # English name (fallback if not available)\n",
    "        \"Score\",  # Overall anime score\n",
    "        \"Genres\",  # List of genres (comma-separated)\n",
    "        \"Episodes\",  # Number of episodes\n",
    "        \"Type\",  # Type of anime (TV, Movie, etc.)\n",
    "        \"Premiered\",  # Season and year of premiere\n",
    "        \"Members\",  # Number of users who added it to their list\n",
    "    ]\n",
    "]\n"
   ]
  },
  {
   "cell_type": "code",
   "execution_count": 59,
   "id": "f1cc2cd5",
   "metadata": {},
   "outputs": [
    {
     "data": {
      "text/html": [
       "<div>\n",
       "<style scoped>\n",
       "    .dataframe tbody tr th:only-of-type {\n",
       "        vertical-align: middle;\n",
       "    }\n",
       "\n",
       "    .dataframe tbody tr th {\n",
       "        vertical-align: top;\n",
       "    }\n",
       "\n",
       "    .dataframe thead th {\n",
       "        text-align: right;\n",
       "    }\n",
       "</style>\n",
       "<table border=\"1\" class=\"dataframe\">\n",
       "  <thead>\n",
       "    <tr style=\"text-align: right;\">\n",
       "      <th></th>\n",
       "      <th>anime_id</th>\n",
       "      <th>eng_version</th>\n",
       "      <th>Score</th>\n",
       "      <th>Genres</th>\n",
       "      <th>Episodes</th>\n",
       "      <th>Type</th>\n",
       "      <th>Premiered</th>\n",
       "      <th>Members</th>\n",
       "    </tr>\n",
       "  </thead>\n",
       "  <tbody>\n",
       "    <tr>\n",
       "      <th>3971</th>\n",
       "      <td>5114</td>\n",
       "      <td>Fullmetal Alchemist:Brotherhood</td>\n",
       "      <td>9.19</td>\n",
       "      <td>Action, Military, Adventure, Comedy, Drama, Ma...</td>\n",
       "      <td>64</td>\n",
       "      <td>TV</td>\n",
       "      <td>Spring 2009</td>\n",
       "      <td>2248456</td>\n",
       "    </tr>\n",
       "    <tr>\n",
       "      <th>15926</th>\n",
       "      <td>40028</td>\n",
       "      <td>Attack on Titan Final Season</td>\n",
       "      <td>9.17</td>\n",
       "      <td>Action, Military, Mystery, Super Power, Drama,...</td>\n",
       "      <td>16</td>\n",
       "      <td>TV</td>\n",
       "      <td>Winter 2021</td>\n",
       "      <td>733260</td>\n",
       "    </tr>\n",
       "    <tr>\n",
       "      <th>5683</th>\n",
       "      <td>9253</td>\n",
       "      <td>Steins;Gate</td>\n",
       "      <td>9.11</td>\n",
       "      <td>Thriller, Sci-Fi</td>\n",
       "      <td>24</td>\n",
       "      <td>TV</td>\n",
       "      <td>Spring 2011</td>\n",
       "      <td>1771162</td>\n",
       "    </tr>\n",
       "    <tr>\n",
       "      <th>14963</th>\n",
       "      <td>38524</td>\n",
       "      <td>Attack on Titan Season 3 Part 2</td>\n",
       "      <td>9.1</td>\n",
       "      <td>Action, Drama, Fantasy, Military, Mystery, Sho...</td>\n",
       "      <td>10</td>\n",
       "      <td>TV</td>\n",
       "      <td>Spring 2019</td>\n",
       "      <td>1073626</td>\n",
       "    </tr>\n",
       "    <tr>\n",
       "      <th>9913</th>\n",
       "      <td>28977</td>\n",
       "      <td>Gintama Season 4</td>\n",
       "      <td>9.1</td>\n",
       "      <td>Action, Comedy, Historical, Parody, Samurai, S...</td>\n",
       "      <td>51</td>\n",
       "      <td>TV</td>\n",
       "      <td>Spring 2015</td>\n",
       "      <td>404121</td>\n",
       "    </tr>\n",
       "  </tbody>\n",
       "</table>\n",
       "</div>"
      ],
      "text/plain": [
       "       anime_id                      eng_version Score  \\\n",
       "3971       5114  Fullmetal Alchemist:Brotherhood  9.19   \n",
       "15926     40028     Attack on Titan Final Season  9.17   \n",
       "5683       9253                      Steins;Gate  9.11   \n",
       "14963     38524  Attack on Titan Season 3 Part 2   9.1   \n",
       "9913      28977                 Gintama Season 4   9.1   \n",
       "\n",
       "                                                  Genres Episodes Type  \\\n",
       "3971   Action, Military, Adventure, Comedy, Drama, Ma...       64   TV   \n",
       "15926  Action, Military, Mystery, Super Power, Drama,...       16   TV   \n",
       "5683                                    Thriller, Sci-Fi       24   TV   \n",
       "14963  Action, Drama, Fantasy, Military, Mystery, Sho...       10   TV   \n",
       "9913   Action, Comedy, Historical, Parody, Samurai, S...       51   TV   \n",
       "\n",
       "         Premiered  Members  \n",
       "3971   Spring 2009  2248456  \n",
       "15926  Winter 2021   733260  \n",
       "5683   Spring 2011  1771162  \n",
       "14963  Spring 2019  1073626  \n",
       "9913   Spring 2015   404121  "
      ]
     },
     "execution_count": 59,
     "metadata": {},
     "output_type": "execute_result"
    }
   ],
   "source": [
    "df.head()"
   ]
  },
  {
   "cell_type": "markdown",
   "id": "4e997de9",
   "metadata": {},
   "source": [
    "#### Helper Function: getAnimeFrame"
   ]
  },
  {
   "cell_type": "code",
   "execution_count": null,
   "id": "2ea986ae",
   "metadata": {},
   "outputs": [],
   "source": [
    "# Returns the row from the anime DataFrame matching either the anime ID or English name\n",
    "def getAnimeFrame(anime, df):\n",
    "    if isinstance(anime, int):\n",
    "        # Search by anime_id\n",
    "        return df[df[\"anime_id\"] == anime]\n",
    "\n",
    "    if isinstance(anime, str):\n",
    "        # Search by English name (exact match)\n",
    "        return df[df[\"eng_version\"] == anime]"
   ]
  },
  {
   "cell_type": "code",
   "execution_count": null,
   "id": "a734b599",
   "metadata": {},
   "outputs": [
    {
     "data": {
      "text/html": [
       "<div>\n",
       "<style scoped>\n",
       "    .dataframe tbody tr th:only-of-type {\n",
       "        vertical-align: middle;\n",
       "    }\n",
       "\n",
       "    .dataframe tbody tr th {\n",
       "        vertical-align: top;\n",
       "    }\n",
       "\n",
       "    .dataframe thead th {\n",
       "        text-align: right;\n",
       "    }\n",
       "</style>\n",
       "<table border=\"1\" class=\"dataframe\">\n",
       "  <thead>\n",
       "    <tr style=\"text-align: right;\">\n",
       "      <th></th>\n",
       "      <th>anime_id</th>\n",
       "      <th>eng_version</th>\n",
       "      <th>Score</th>\n",
       "      <th>Genres</th>\n",
       "      <th>Episodes</th>\n",
       "      <th>Type</th>\n",
       "      <th>Premiered</th>\n",
       "      <th>Members</th>\n",
       "    </tr>\n",
       "  </thead>\n",
       "  <tbody>\n",
       "    <tr>\n",
       "      <th>4707</th>\n",
       "      <td>6702</td>\n",
       "      <td>Fairy Tail</td>\n",
       "      <td>7.68</td>\n",
       "      <td>Action, Adventure, Comedy, Magic, Fantasy, Sho...</td>\n",
       "      <td>175</td>\n",
       "      <td>TV</td>\n",
       "      <td>Fall 2009</td>\n",
       "      <td>1312470</td>\n",
       "    </tr>\n",
       "  </tbody>\n",
       "</table>\n",
       "</div>"
      ],
      "text/plain": [
       "      anime_id eng_version Score  \\\n",
       "4707      6702  Fairy Tail  7.68   \n",
       "\n",
       "                                                 Genres Episodes Type  \\\n",
       "4707  Action, Adventure, Comedy, Magic, Fantasy, Sho...      175   TV   \n",
       "\n",
       "      Premiered  Members  \n",
       "4707  Fall 2009  1312470  "
      ]
     },
     "execution_count": 62,
     "metadata": {},
     "output_type": "execute_result"
    }
   ],
   "source": [
    "getAnimeFrame(6702, df)  # Using anime_id"
   ]
  },
  {
   "cell_type": "code",
   "execution_count": null,
   "id": "581d6f3c",
   "metadata": {},
   "outputs": [
    {
     "data": {
      "text/html": [
       "<div>\n",
       "<style scoped>\n",
       "    .dataframe tbody tr th:only-of-type {\n",
       "        vertical-align: middle;\n",
       "    }\n",
       "\n",
       "    .dataframe tbody tr th {\n",
       "        vertical-align: top;\n",
       "    }\n",
       "\n",
       "    .dataframe thead th {\n",
       "        text-align: right;\n",
       "    }\n",
       "</style>\n",
       "<table border=\"1\" class=\"dataframe\">\n",
       "  <thead>\n",
       "    <tr style=\"text-align: right;\">\n",
       "      <th></th>\n",
       "      <th>anime_id</th>\n",
       "      <th>eng_version</th>\n",
       "      <th>Score</th>\n",
       "      <th>Genres</th>\n",
       "      <th>Episodes</th>\n",
       "      <th>Type</th>\n",
       "      <th>Premiered</th>\n",
       "      <th>Members</th>\n",
       "    </tr>\n",
       "  </thead>\n",
       "  <tbody>\n",
       "    <tr>\n",
       "      <th>0</th>\n",
       "      <td>1</td>\n",
       "      <td>Cowboy Bebop</td>\n",
       "      <td>8.78</td>\n",
       "      <td>Action, Adventure, Comedy, Drama, Sci-Fi, Space</td>\n",
       "      <td>26</td>\n",
       "      <td>TV</td>\n",
       "      <td>Spring 1998</td>\n",
       "      <td>1251960</td>\n",
       "    </tr>\n",
       "  </tbody>\n",
       "</table>\n",
       "</div>"
      ],
      "text/plain": [
       "   anime_id   eng_version Score  \\\n",
       "0         1  Cowboy Bebop  8.78   \n",
       "\n",
       "                                            Genres Episodes Type    Premiered  \\\n",
       "0  Action, Adventure, Comedy, Drama, Sci-Fi, Space       26   TV  Spring 1998   \n",
       "\n",
       "   Members  \n",
       "0  1251960  "
      ]
     },
     "execution_count": 63,
     "metadata": {},
     "output_type": "execute_result"
    }
   ],
   "source": [
    "getAnimeFrame(\"Cowboy Bebop\", df)  # Using English name"
   ]
  },
  {
   "cell_type": "markdown",
   "id": "6ec9594a",
   "metadata": {},
   "source": [
    "### Load anime_with_synopsis.csv (Only Required Columns)"
   ]
  },
  {
   "cell_type": "code",
   "execution_count": null,
   "id": "5528bc0a",
   "metadata": {},
   "outputs": [],
   "source": [
    "# Load selected columns from anime_with_synopsis.csv\n",
    "cols = [\n",
    "    \"MAL_ID\",\n",
    "    \"Name\",\n",
    "    \"Genres\",\n",
    "    \"sypnopsis\",\n",
    "]  # Columns needed for NLP-based recommendation\n",
    "synopsis_df = pd.read_csv(INPUT_DIR + \"/anime_with_synopsis.csv\", usecols=cols)"
   ]
  },
  {
   "cell_type": "code",
   "execution_count": 65,
   "id": "fdd370a8",
   "metadata": {},
   "outputs": [
    {
     "data": {
      "text/html": [
       "<div>\n",
       "<style scoped>\n",
       "    .dataframe tbody tr th:only-of-type {\n",
       "        vertical-align: middle;\n",
       "    }\n",
       "\n",
       "    .dataframe tbody tr th {\n",
       "        vertical-align: top;\n",
       "    }\n",
       "\n",
       "    .dataframe thead th {\n",
       "        text-align: right;\n",
       "    }\n",
       "</style>\n",
       "<table border=\"1\" class=\"dataframe\">\n",
       "  <thead>\n",
       "    <tr style=\"text-align: right;\">\n",
       "      <th></th>\n",
       "      <th>MAL_ID</th>\n",
       "      <th>Name</th>\n",
       "      <th>Genres</th>\n",
       "      <th>sypnopsis</th>\n",
       "    </tr>\n",
       "  </thead>\n",
       "  <tbody>\n",
       "    <tr>\n",
       "      <th>0</th>\n",
       "      <td>1</td>\n",
       "      <td>Cowboy Bebop</td>\n",
       "      <td>Action, Adventure, Comedy, Drama, Sci-Fi, Space</td>\n",
       "      <td>In the year 2071, humanity has colonized sever...</td>\n",
       "    </tr>\n",
       "    <tr>\n",
       "      <th>1</th>\n",
       "      <td>5</td>\n",
       "      <td>Cowboy Bebop: Tengoku no Tobira</td>\n",
       "      <td>Action, Drama, Mystery, Sci-Fi, Space</td>\n",
       "      <td>other day, another bounty—such is the life of ...</td>\n",
       "    </tr>\n",
       "    <tr>\n",
       "      <th>2</th>\n",
       "      <td>6</td>\n",
       "      <td>Trigun</td>\n",
       "      <td>Action, Sci-Fi, Adventure, Comedy, Drama, Shounen</td>\n",
       "      <td>Vash the Stampede is the man with a $$60,000,0...</td>\n",
       "    </tr>\n",
       "    <tr>\n",
       "      <th>3</th>\n",
       "      <td>7</td>\n",
       "      <td>Witch Hunter Robin</td>\n",
       "      <td>Action, Mystery, Police, Supernatural, Drama, ...</td>\n",
       "      <td>ches are individuals with special powers like ...</td>\n",
       "    </tr>\n",
       "    <tr>\n",
       "      <th>4</th>\n",
       "      <td>8</td>\n",
       "      <td>Bouken Ou Beet</td>\n",
       "      <td>Adventure, Fantasy, Shounen, Supernatural</td>\n",
       "      <td>It is the dark century and the people are suff...</td>\n",
       "    </tr>\n",
       "  </tbody>\n",
       "</table>\n",
       "</div>"
      ],
      "text/plain": [
       "   MAL_ID                             Name  \\\n",
       "0       1                     Cowboy Bebop   \n",
       "1       5  Cowboy Bebop: Tengoku no Tobira   \n",
       "2       6                           Trigun   \n",
       "3       7               Witch Hunter Robin   \n",
       "4       8                   Bouken Ou Beet   \n",
       "\n",
       "                                              Genres  \\\n",
       "0    Action, Adventure, Comedy, Drama, Sci-Fi, Space   \n",
       "1              Action, Drama, Mystery, Sci-Fi, Space   \n",
       "2  Action, Sci-Fi, Adventure, Comedy, Drama, Shounen   \n",
       "3  Action, Mystery, Police, Supernatural, Drama, ...   \n",
       "4          Adventure, Fantasy, Shounen, Supernatural   \n",
       "\n",
       "                                           sypnopsis  \n",
       "0  In the year 2071, humanity has colonized sever...  \n",
       "1  other day, another bounty—such is the life of ...  \n",
       "2  Vash the Stampede is the man with a $$60,000,0...  \n",
       "3  ches are individuals with special powers like ...  \n",
       "4  It is the dark century and the people are suff...  "
      ]
     },
     "execution_count": 65,
     "metadata": {},
     "output_type": "execute_result"
    }
   ],
   "source": [
    "synopsis_df.head()"
   ]
  },
  {
   "cell_type": "markdown",
   "id": "d759caef",
   "metadata": {},
   "source": [
    "#### Helper Function: getSynopsis()"
   ]
  },
  {
   "cell_type": "code",
   "execution_count": 66,
   "id": "4e357f7c",
   "metadata": {},
   "outputs": [],
   "source": [
    "# Fetches the synopsis for a given anime by ID or Name\n",
    "def getSynopsis(anime, synopsis_df):\n",
    "    try:\n",
    "        if isinstance(anime, int):\n",
    "            return synopsis_df[synopsis_df[\"MAL_ID\"] == anime][\"sypnopsis\"].values[0]\n",
    "        elif isinstance(anime, str):\n",
    "            return synopsis_df[synopsis_df[\"Name\"] == anime][\"sypnopsis\"].values[0]\n",
    "        else:\n",
    "            return \"Invalid input type. Please enter anime ID (int) or Name (str).\"\n",
    "    except IndexError:\n",
    "        return \"Anime not found.\""
   ]
  },
  {
   "cell_type": "code",
   "execution_count": null,
   "id": "b54cfb7d",
   "metadata": {},
   "outputs": [
    {
     "data": {
      "text/plain": [
       "\"In the mystical land of Fiore, magic exists as an essential part of everyday life. Countless magic guilds lie at the core of all magical activity, and serve as venues for like-minded mages to band together and take on job requests. Among them, Fairy Tail stands out from the rest as a place of strength, spirit, and family. Lucy Heartfilia is a young mage searching for celestial gate keys, and her dream is to become a full-fledged wizard by joining this famous guild. In her search, she runs into Natsu Dragneel and his partner Happy, who are on a quest to find Natsu's foster father, the dragon Igneel. Upon being tricked by a man, Lucy falls under an abduction attempt, only to be saved by Natsu. To her shock, he reveals that he is a member of Fairy Tail and invites her to join them. There, Lucy meets the guild's strange members, such as the ice wizard Gray Fullbuster and magic swordswoman Erza Scarlet. Together as a family, they battle the forces of evil, help those in need, and gain new friends, all the while enjoying the never-ending adventure that is Fairy Tail.\""
      ]
     },
     "execution_count": 67,
     "metadata": {},
     "output_type": "execute_result"
    }
   ],
   "source": [
    "getSynopsis(6702, synopsis_df)  # By anime ID"
   ]
  },
  {
   "cell_type": "code",
   "execution_count": null,
   "id": "8f0e4912",
   "metadata": {},
   "outputs": [
    {
     "data": {
      "text/plain": [
       "'In the year 2071, humanity has colonized several of the planets and moons of the solar system leaving the now uninhabitable surface of planet Earth behind. The Inter Solar System Police attempts to keep peace in the galaxy, aided in part by outlaw bounty hunters, referred to as \"Cowboys.\" The ragtag team aboard the spaceship Bebop are two such individuals. Mellow and carefree Spike Spiegel is balanced by his boisterous, pragmatic partner Jet Black as the pair makes a living chasing bounties and collecting rewards. Thrown off course by the addition of new members that they meet in their travels—Ein, a genetically engineered, highly intelligent Welsh Corgi; femme fatale Faye Valentine, an enigmatic trickster with memory loss; and the strange computer whiz kid Edward Wong—the crew embarks on thrilling adventures that unravel each member\\'s dark and mysterious past little by little. Well-balanced with high density action and light-hearted comedy, Cowboy Bebop is a space Western classic and an homage to the smooth and improvised music it is named after.'"
      ]
     },
     "execution_count": 68,
     "metadata": {},
     "output_type": "execute_result"
    }
   ],
   "source": [
    "getSynopsis(\"Cowboy Bebop\", synopsis_df)  # By anime name"
   ]
  },
  {
   "cell_type": "markdown",
   "id": "acc11047",
   "metadata": {},
   "source": [
    "### Content/Item-Based Recommendation Function"
   ]
  },
  {
   "cell_type": "code",
   "execution_count": null,
   "id": "1eb52944",
   "metadata": {},
   "outputs": [],
   "source": [
    "# 📌 CONTENT/ITEM-BASED RECOMMENDATION\n",
    "def find_similar_animes(\n",
    "    name,\n",
    "    anime_weights,\n",
    "    anime2anime_encoded,\n",
    "    anime2anime_decoded,\n",
    "    df,\n",
    "    synopsis_df,\n",
    "    n=10,\n",
    "    return_dist=False,\n",
    "    neg=False,\n",
    "):\n",
    "    # Step 1: Get original anime_id for the given anime name\n",
    "    index = getAnimeFrame(name, df).anime_id.values[0]\n",
    "\n",
    "    # Step 2: Convert to encoded index used by the neural net\n",
    "    encoded_index = anime2anime_encoded.get(index)\n",
    "    if encoded_index is None:\n",
    "        raise ValueError(f\"Encoded index not found for anime ID: {index}\")\n",
    "\n",
    "    # Step 3: Calculate cosine similarity (dot product) with all other anime embeddings\n",
    "    dists = np.dot(anime_weights, anime_weights[encoded_index])\n",
    "    sorted_dists = np.argsort(dists)  # Sorted by similarity\n",
    "\n",
    "    n = n + 1  # Add +1 to exclude input anime later\n",
    "\n",
    "    # Step 4: Choose top-N closest or farthest items\n",
    "    if neg:\n",
    "        closest = sorted_dists[:n]\n",
    "    else:\n",
    "        closest = sorted_dists[-n:]\n",
    "\n",
    "    # Optional: return raw distances and indices for further analysis\n",
    "    if return_dist:\n",
    "        return dists, closest\n",
    "\n",
    "    # Step 5: Build result list\n",
    "    SimilarityArr = []\n",
    "    for close in closest:\n",
    "        decoded_id = anime2anime_decoded.get(close)\n",
    "        if decoded_id is None:\n",
    "            continue\n",
    "\n",
    "        anime_frame = getAnimeFrame(decoded_id, df)\n",
    "        if anime_frame.empty:\n",
    "            continue\n",
    "\n",
    "        # 🛑 FIX: Avoid NaN or missing names\n",
    "        anime_name = anime_frame.eng_version.values[0]\n",
    "        genre = anime_frame.Genres.values[0]\n",
    "        similarity = dists[close]\n",
    "\n",
    "        if pd.isna(anime_name) or anime_name == \"\":\n",
    "            continue  # Skip if anime name is NaN or blank\n",
    "\n",
    "        # Store recommendation\n",
    "        SimilarityArr.append(\n",
    "            {\n",
    "                \"anime_id\": decoded_id,\n",
    "                \"name\": anime_name,\n",
    "                \"similarity\": similarity,\n",
    "                \"genre\": genre,\n",
    "            }\n",
    "        )\n",
    "\n",
    "    # Step 6: Build DataFrame and drop the input anime itself\n",
    "    Frame = pd.DataFrame(SimilarityArr).sort_values(by=\"similarity\", ascending=False)\n",
    "\n",
    "    return Frame[Frame.anime_id != index].drop([\"anime_id\"], axis=1)\n"
   ]
  },
  {
   "cell_type": "code",
   "execution_count": null,
   "id": "dac9208b",
   "metadata": {},
   "outputs": [
    {
     "data": {
      "text/html": [
       "<div>\n",
       "<style scoped>\n",
       "    .dataframe tbody tr th:only-of-type {\n",
       "        vertical-align: middle;\n",
       "    }\n",
       "\n",
       "    .dataframe tbody tr th {\n",
       "        vertical-align: top;\n",
       "    }\n",
       "\n",
       "    .dataframe thead th {\n",
       "        text-align: right;\n",
       "    }\n",
       "</style>\n",
       "<table border=\"1\" class=\"dataframe\">\n",
       "  <thead>\n",
       "    <tr style=\"text-align: right;\">\n",
       "      <th></th>\n",
       "      <th>name</th>\n",
       "      <th>similarity</th>\n",
       "      <th>genre</th>\n",
       "    </tr>\n",
       "  </thead>\n",
       "  <tbody>\n",
       "    <tr>\n",
       "      <th>9</th>\n",
       "      <td>Naruto:Shippuden</td>\n",
       "      <td>0.750972</td>\n",
       "      <td>Action, Adventure, Comedy, Super Power, Martia...</td>\n",
       "    </tr>\n",
       "    <tr>\n",
       "      <th>8</th>\n",
       "      <td>Death Note</td>\n",
       "      <td>0.701886</td>\n",
       "      <td>Mystery, Police, Psychological, Supernatural, ...</td>\n",
       "    </tr>\n",
       "    <tr>\n",
       "      <th>7</th>\n",
       "      <td>Attack on Titan</td>\n",
       "      <td>0.678620</td>\n",
       "      <td>Action, Military, Mystery, Super Power, Drama,...</td>\n",
       "    </tr>\n",
       "    <tr>\n",
       "      <th>6</th>\n",
       "      <td>One Punch Man</td>\n",
       "      <td>0.638117</td>\n",
       "      <td>Action, Sci-Fi, Comedy, Parody, Super Power, S...</td>\n",
       "    </tr>\n",
       "    <tr>\n",
       "      <th>5</th>\n",
       "      <td>Bleach</td>\n",
       "      <td>0.619348</td>\n",
       "      <td>Action, Adventure, Comedy, Super Power, Supern...</td>\n",
       "    </tr>\n",
       "    <tr>\n",
       "      <th>4</th>\n",
       "      <td>Sword Art Online</td>\n",
       "      <td>0.613278</td>\n",
       "      <td>Action, Game, Adventure, Romance, Fantasy</td>\n",
       "    </tr>\n",
       "    <tr>\n",
       "      <th>3</th>\n",
       "      <td>Dragon Ball Z</td>\n",
       "      <td>0.612444</td>\n",
       "      <td>Action, Adventure, Comedy, Fantasy, Martial Ar...</td>\n",
       "    </tr>\n",
       "    <tr>\n",
       "      <th>2</th>\n",
       "      <td>Spirited Away</td>\n",
       "      <td>0.604811</td>\n",
       "      <td>Adventure, Supernatural, Drama</td>\n",
       "    </tr>\n",
       "    <tr>\n",
       "      <th>1</th>\n",
       "      <td>Fullmetal Alchemist</td>\n",
       "      <td>0.603793</td>\n",
       "      <td>Action, Adventure, Comedy, Drama, Fantasy, Mag...</td>\n",
       "    </tr>\n",
       "    <tr>\n",
       "      <th>0</th>\n",
       "      <td>Fullmetal Alchemist:Brotherhood</td>\n",
       "      <td>0.591448</td>\n",
       "      <td>Action, Military, Adventure, Comedy, Drama, Ma...</td>\n",
       "    </tr>\n",
       "  </tbody>\n",
       "</table>\n",
       "</div>"
      ],
      "text/plain": [
       "                              name  similarity  \\\n",
       "9                 Naruto:Shippuden    0.750972   \n",
       "8                       Death Note    0.701886   \n",
       "7                  Attack on Titan    0.678620   \n",
       "6                    One Punch Man    0.638117   \n",
       "5                           Bleach    0.619348   \n",
       "4                 Sword Art Online    0.613278   \n",
       "3                    Dragon Ball Z    0.612444   \n",
       "2                    Spirited Away    0.604811   \n",
       "1              Fullmetal Alchemist    0.603793   \n",
       "0  Fullmetal Alchemist:Brotherhood    0.591448   \n",
       "\n",
       "                                               genre  \n",
       "9  Action, Adventure, Comedy, Super Power, Martia...  \n",
       "8  Mystery, Police, Psychological, Supernatural, ...  \n",
       "7  Action, Military, Mystery, Super Power, Drama,...  \n",
       "6  Action, Sci-Fi, Comedy, Parody, Super Power, S...  \n",
       "5  Action, Adventure, Comedy, Super Power, Supern...  \n",
       "4          Action, Game, Adventure, Romance, Fantasy  \n",
       "3  Action, Adventure, Comedy, Fantasy, Martial Ar...  \n",
       "2                     Adventure, Supernatural, Drama  \n",
       "1  Action, Adventure, Comedy, Drama, Fantasy, Mag...  \n",
       "0  Action, Military, Adventure, Comedy, Drama, Ma...  "
      ]
     },
     "execution_count": 70,
     "metadata": {},
     "output_type": "execute_result"
    }
   ],
   "source": [
    "find_similar_animes(\n",
    "    \"Naruto\",\n",
    "    anime_weights,\n",
    "    anime2anime_encoded,\n",
    "    anime2anime_decoded,\n",
    "    df,\n",
    "    synopsis_df,\n",
    "    n=10,\n",
    ")"
   ]
  },
  {
   "cell_type": "markdown",
   "id": "4d084767",
   "metadata": {},
   "source": [
    "###  ✅ USER-BASED RECOMMENDATION FUNCTION"
   ]
  },
  {
   "cell_type": "code",
   "execution_count": null,
   "id": "67d718a1",
   "metadata": {},
   "outputs": [],
   "source": [
    "def find_similar_users(\n",
    "    item_input,\n",
    "    user_weights,\n",
    "    user2user_encoded,\n",
    "    user2user_decoded,\n",
    "    n=10,\n",
    "    return_dist=False,\n",
    "    neg=False,\n",
    "):\n",
    "    try:\n",
    "        # Step 1: Get encoded index of the user\n",
    "        index = item_input\n",
    "        encoded_index = user2user_encoded.get(index)\n",
    "\n",
    "        # Step 2: Get user embedding matrix\n",
    "        weights = user_weights\n",
    "\n",
    "        # Step 3: Compute cosine similarity (via dot product) with all users\n",
    "        dists = np.dot(weights, weights[encoded_index])\n",
    "\n",
    "        # Step 4: Sort indices based on similarity\n",
    "        sorted_dists = np.argsort(dists)\n",
    "\n",
    "        # Step 5: Fetch n closest users (+1 because the user will be included)\n",
    "        n = n + 1\n",
    "        if neg:\n",
    "            # If negative flag is True, return least similar users\n",
    "            closest = sorted_dists[:n]\n",
    "        else:\n",
    "            # Otherwise, return most similar users\n",
    "            closest = sorted_dists[-n:]\n",
    "\n",
    "        # Optional: return raw distances and indices\n",
    "        if return_dist:\n",
    "            return dists, closest\n",
    "\n",
    "        # Step 6: Build list of similar users\n",
    "        SimilarityArr = []\n",
    "        for close in closest:\n",
    "            similarity = dists[close]\n",
    "\n",
    "            # Only proceed if input is a valid integer user_id\n",
    "            if isinstance(item_input, int):\n",
    "                # Decode the user ID from index\n",
    "                decoded_id = user2user_decoded.get(close)\n",
    "\n",
    "                # Append user ID and similarity score\n",
    "                SimilarityArr.append(\n",
    "                    {\"similar_users\": decoded_id, \"similarity\": similarity}\n",
    "                )\n",
    "\n",
    "        # Step 7: Convert to DataFrame and sort by similarity score (descending)\n",
    "        similar_users = pd.DataFrame(SimilarityArr).sort_values(\n",
    "            by=\"similarity\", ascending=False\n",
    "        )\n",
    "\n",
    "        # Step 8: Remove the user itself from result\n",
    "        similar_users = similar_users[similar_users.similar_users != item_input]\n",
    "\n",
    "        # Final Output: DataFrame of top similar users\n",
    "        return similar_users\n",
    "\n",
    "    except Exception as e:\n",
    "        # Handle and print errors\n",
    "        print(\"Error Occurred\", e)"
   ]
  },
  {
   "cell_type": "code",
   "execution_count": 75,
   "id": "ce79c43d",
   "metadata": {},
   "outputs": [
    {
     "data": {
      "text/html": [
       "<div>\n",
       "<style scoped>\n",
       "    .dataframe tbody tr th:only-of-type {\n",
       "        vertical-align: middle;\n",
       "    }\n",
       "\n",
       "    .dataframe tbody tr th {\n",
       "        vertical-align: top;\n",
       "    }\n",
       "\n",
       "    .dataframe thead th {\n",
       "        text-align: right;\n",
       "    }\n",
       "</style>\n",
       "<table border=\"1\" class=\"dataframe\">\n",
       "  <thead>\n",
       "    <tr style=\"text-align: right;\">\n",
       "      <th></th>\n",
       "      <th>similar_users</th>\n",
       "      <th>similarity</th>\n",
       "    </tr>\n",
       "  </thead>\n",
       "  <tbody>\n",
       "    <tr>\n",
       "      <th>9</th>\n",
       "      <td>6466</td>\n",
       "      <td>0.502801</td>\n",
       "    </tr>\n",
       "    <tr>\n",
       "      <th>8</th>\n",
       "      <td>2109</td>\n",
       "      <td>0.490096</td>\n",
       "    </tr>\n",
       "    <tr>\n",
       "      <th>7</th>\n",
       "      <td>5241</td>\n",
       "      <td>0.489817</td>\n",
       "    </tr>\n",
       "    <tr>\n",
       "      <th>6</th>\n",
       "      <td>1850</td>\n",
       "      <td>0.488211</td>\n",
       "    </tr>\n",
       "    <tr>\n",
       "      <th>5</th>\n",
       "      <td>5586</td>\n",
       "      <td>0.469061</td>\n",
       "    </tr>\n",
       "    <tr>\n",
       "      <th>4</th>\n",
       "      <td>9681</td>\n",
       "      <td>0.466908</td>\n",
       "    </tr>\n",
       "    <tr>\n",
       "      <th>3</th>\n",
       "      <td>446</td>\n",
       "      <td>0.454487</td>\n",
       "    </tr>\n",
       "    <tr>\n",
       "      <th>2</th>\n",
       "      <td>16430</td>\n",
       "      <td>0.448046</td>\n",
       "    </tr>\n",
       "    <tr>\n",
       "      <th>1</th>\n",
       "      <td>12189</td>\n",
       "      <td>0.438760</td>\n",
       "    </tr>\n",
       "    <tr>\n",
       "      <th>0</th>\n",
       "      <td>8844</td>\n",
       "      <td>0.436969</td>\n",
       "    </tr>\n",
       "  </tbody>\n",
       "</table>\n",
       "</div>"
      ],
      "text/plain": [
       "   similar_users  similarity\n",
       "9           6466    0.502801\n",
       "8           2109    0.490096\n",
       "7           5241    0.489817\n",
       "6           1850    0.488211\n",
       "5           5586    0.469061\n",
       "4           9681    0.466908\n",
       "3            446    0.454487\n",
       "2          16430    0.448046\n",
       "1          12189    0.438760\n",
       "0           8844    0.436969"
      ]
     },
     "execution_count": 75,
     "metadata": {},
     "output_type": "execute_result"
    }
   ],
   "source": [
    "find_similar_users(int(8408), user_weights, user2user_encoded, user2user_decoded)"
   ]
  },
  {
   "cell_type": "markdown",
   "id": "6c6962df",
   "metadata": {},
   "source": [
    "#### visualizes anime genres using a word cloud"
   ]
  },
  {
   "cell_type": "code",
   "execution_count": null,
   "id": "ca3e0338",
   "metadata": {},
   "outputs": [],
   "source": [
    "def showWordCloud(all_genres):\n",
    "    # Generate a word cloud image from the frequency dictionary of genres\n",
    "    genres_cloud = WordCloud(\n",
    "        width=700,  # Width of the word cloud image\n",
    "        height=400,  # Height of the word cloud image\n",
    "        background_color=\"white\",  # Background color\n",
    "        colormap=\"gnuplot\",  # Color scheme for the words\n",
    "    ).generate_from_frequencies(\n",
    "        all_genres\n",
    "    )  # Input: a dict like {'Action': 100, 'Comedy': 80, ...}\n",
    "\n",
    "    # Set figure size and plot the word cloud\n",
    "    plt.figure(figsize=(10, 8))\n",
    "    plt.imshow(genres_cloud, interpolation=\"bilinear\")  # Display the image\n",
    "    plt.axis(\"off\")  # Hide the axis\n",
    "    plt.show()  # Show the plot\n"
   ]
  },
  {
   "cell_type": "code",
   "execution_count": null,
   "id": "27a31ceb",
   "metadata": {},
   "outputs": [],
   "source": [
    "from collections import defaultdict\n",
    "\n",
    "\n",
    "def getFavGenre(frame, plot=False):\n",
    "    # Attempt to drop NaN values in-place (ineffective here because inplace=False)\n",
    "    frame.dropna(inplace=False)\n",
    "\n",
    "    # Dictionary to count frequency of each genre\n",
    "    all_genres = defaultdict(int)\n",
    "\n",
    "    genres_list = []\n",
    "\n",
    "    # Iterate through the 'Genres' column\n",
    "    for genres in frame[\"Genres\"]:\n",
    "        if isinstance(genres, str):  # Skip if genre is NaN or not a string\n",
    "            for genre in genres.split(\",\"):  # Split genres by comma\n",
    "                genres_list.append(genre)  # Add to flat list\n",
    "                all_genres[genre.strip()] += 1  # Count frequency\n",
    "\n",
    "    # Optional: plot genre frequency word cloud\n",
    "    if plot:\n",
    "        showWordCloud(all_genres)\n",
    "\n",
    "    return genres_list  # Return flat list of all genres (duplicates included)"
   ]
  },
  {
   "cell_type": "code",
   "execution_count": 86,
   "id": "e5a74641",
   "metadata": {},
   "outputs": [
    {
     "data": {
      "text/html": [
       "<div>\n",
       "<style scoped>\n",
       "    .dataframe tbody tr th:only-of-type {\n",
       "        vertical-align: middle;\n",
       "    }\n",
       "\n",
       "    .dataframe tbody tr th {\n",
       "        vertical-align: top;\n",
       "    }\n",
       "\n",
       "    .dataframe thead th {\n",
       "        text-align: right;\n",
       "    }\n",
       "</style>\n",
       "<table border=\"1\" class=\"dataframe\">\n",
       "  <thead>\n",
       "    <tr style=\"text-align: right;\">\n",
       "      <th></th>\n",
       "      <th>anime_id</th>\n",
       "      <th>eng_version</th>\n",
       "      <th>Score</th>\n",
       "      <th>Genres</th>\n",
       "      <th>Episodes</th>\n",
       "      <th>Type</th>\n",
       "      <th>Premiered</th>\n",
       "      <th>Members</th>\n",
       "    </tr>\n",
       "  </thead>\n",
       "  <tbody>\n",
       "    <tr>\n",
       "      <th>0</th>\n",
       "      <td>1</td>\n",
       "      <td>Cowboy Bebop</td>\n",
       "      <td>8.78</td>\n",
       "      <td>Action, Adventure, Comedy, Drama, Sci-Fi, Space</td>\n",
       "      <td>26</td>\n",
       "      <td>TV</td>\n",
       "      <td>Spring 1998</td>\n",
       "      <td>1251960</td>\n",
       "    </tr>\n",
       "  </tbody>\n",
       "</table>\n",
       "</div>"
      ],
      "text/plain": [
       "   anime_id   eng_version Score  \\\n",
       "0         1  Cowboy Bebop  8.78   \n",
       "\n",
       "                                            Genres Episodes Type    Premiered  \\\n",
       "0  Action, Adventure, Comedy, Drama, Sci-Fi, Space       26   TV  Spring 1998   \n",
       "\n",
       "   Members  \n",
       "0  1251960  "
      ]
     },
     "execution_count": 86,
     "metadata": {},
     "output_type": "execute_result"
    }
   ],
   "source": [
    "getAnimeFrame(1, df)"
   ]
  },
  {
   "cell_type": "code",
   "execution_count": 87,
   "id": "8f2d05db",
   "metadata": {},
   "outputs": [],
   "source": [
    "x = getAnimeFrame(1, df)"
   ]
  },
  {
   "cell_type": "code",
   "execution_count": 88,
   "id": "d3d11df0",
   "metadata": {},
   "outputs": [
    {
     "data": {
      "text/html": [
       "<div>\n",
       "<style scoped>\n",
       "    .dataframe tbody tr th:only-of-type {\n",
       "        vertical-align: middle;\n",
       "    }\n",
       "\n",
       "    .dataframe tbody tr th {\n",
       "        vertical-align: top;\n",
       "    }\n",
       "\n",
       "    .dataframe thead th {\n",
       "        text-align: right;\n",
       "    }\n",
       "</style>\n",
       "<table border=\"1\" class=\"dataframe\">\n",
       "  <thead>\n",
       "    <tr style=\"text-align: right;\">\n",
       "      <th></th>\n",
       "      <th>anime_id</th>\n",
       "      <th>eng_version</th>\n",
       "      <th>Score</th>\n",
       "      <th>Genres</th>\n",
       "      <th>Episodes</th>\n",
       "      <th>Type</th>\n",
       "      <th>Premiered</th>\n",
       "      <th>Members</th>\n",
       "    </tr>\n",
       "  </thead>\n",
       "  <tbody>\n",
       "    <tr>\n",
       "      <th>0</th>\n",
       "      <td>1</td>\n",
       "      <td>Cowboy Bebop</td>\n",
       "      <td>8.78</td>\n",
       "      <td>Action, Adventure, Comedy, Drama, Sci-Fi, Space</td>\n",
       "      <td>26</td>\n",
       "      <td>TV</td>\n",
       "      <td>Spring 1998</td>\n",
       "      <td>1251960</td>\n",
       "    </tr>\n",
       "  </tbody>\n",
       "</table>\n",
       "</div>"
      ],
      "text/plain": [
       "   anime_id   eng_version Score  \\\n",
       "0         1  Cowboy Bebop  8.78   \n",
       "\n",
       "                                            Genres Episodes Type    Premiered  \\\n",
       "0  Action, Adventure, Comedy, Drama, Sci-Fi, Space       26   TV  Spring 1998   \n",
       "\n",
       "   Members  \n",
       "0  1251960  "
      ]
     },
     "execution_count": 88,
     "metadata": {},
     "output_type": "execute_result"
    }
   ],
   "source": [
    "x"
   ]
  },
  {
   "cell_type": "code",
   "execution_count": 89,
   "id": "cddd2709",
   "metadata": {},
   "outputs": [
    {
     "data": {
      "text/plain": [
       "['Action', ' Adventure', ' Comedy', ' Drama', ' Sci-Fi', ' Space']"
      ]
     },
     "execution_count": 89,
     "metadata": {},
     "output_type": "execute_result"
    }
   ],
   "source": [
    "getFavGenre(x)"
   ]
  },
  {
   "cell_type": "code",
   "execution_count": null,
   "id": "614d495d",
   "metadata": {},
   "outputs": [
    {
     "data": {
      "image/png": "[encoded data removed]",
      "text/plain": [
       "<Figure size 1000x800 with 1 Axes>"
      ]
     },
     "metadata": {},
     "output_type": "display_data"
    },
    {
     "data": {
      "text/plain": [
       "['Action', ' Adventure', ' Comedy', ' Drama', ' Sci-Fi', ' Space']"
      ]
     },
     "execution_count": 90,
     "metadata": {},
     "output_type": "execute_result"
    }
   ],
   "source": [
    "getFavGenre(x, plot=True)"
   ]
  },
  {
   "cell_type": "markdown",
   "id": "dad46b4a",
   "metadata": {},
   "source": [
    "### Extracting User Preferences"
   ]
  },
  {
   "cell_type": "code",
   "execution_count": null,
   "id": "4f4f7e0d",
   "metadata": {},
   "outputs": [],
   "source": [
    "def get_user_preferences(user_id, rating_df, df, plot=False):\n",
    "    # 🎯 Step 1: Get all animes rated by the user\n",
    "    animes_watched_by_user = rating_df[rating_df.user_id == user_id]\n",
    "\n",
    "    # 🧠 Step 2: Calculate the 75th percentile of the user's ratings\n",
    "    # (i.e., we consider only the top 25% of their ratings as preferences)\n",
    "    user_rating_percentile = np.percentile(animes_watched_by_user.rating, 75)\n",
    "\n",
    "    # 🔍 Step 3: Filter animes that the user rated above or equal to the 75th percentile\n",
    "    animes_watched_by_user = animes_watched_by_user[\n",
    "        animes_watched_by_user.rating >= user_rating_percentile\n",
    "    ]\n",
    "\n",
    "    # 📋 Step 4: Get anime_ids sorted by rating (descending)\n",
    "    top_animes_user = animes_watched_by_user.sort_values(\n",
    "        by=\"rating\", ascending=False\n",
    "    ).anime_id.values\n",
    "\n",
    "    # 📄 Step 5: Get rows from master anime DataFrame (df) for those top anime_ids\n",
    "    anime_df_rows = df[df[\"anime_id\"].isin(top_animes_user)]\n",
    "\n",
    "    # 🧼 Step 6: Keep only name and genres for display\n",
    "    anime_df_rows = anime_df_rows[[\"eng_version\", \"Genres\"]]\n",
    "\n",
    "    # ☁️ Optional Step 7: Plot genre preferences as word cloud\n",
    "    if plot:\n",
    "        getFavGenre(anime_df_rows, plot)\n",
    "\n",
    "    # ✅ Return top-rated anime data (name + genres) for the user\n",
    "    return anime_df_rows\n"
   ]
  },
  {
   "cell_type": "code",
   "execution_count": 94,
   "id": "e836788f",
   "metadata": {},
   "outputs": [
    {
     "data": {
      "image/png": "[encoded data removed]",
      "text/plain": [
       "<Figure size 1000x800 with 1 Axes>"
      ]
     },
     "metadata": {},
     "output_type": "display_data"
    },
    {
     "data": {
      "text/html": [
       "<div>\n",
       "<style scoped>\n",
       "    .dataframe tbody tr th:only-of-type {\n",
       "        vertical-align: middle;\n",
       "    }\n",
       "\n",
       "    .dataframe tbody tr th {\n",
       "        vertical-align: top;\n",
       "    }\n",
       "\n",
       "    .dataframe thead th {\n",
       "        text-align: right;\n",
       "    }\n",
       "</style>\n",
       "<table border=\"1\" class=\"dataframe\">\n",
       "  <thead>\n",
       "    <tr style=\"text-align: right;\">\n",
       "      <th></th>\n",
       "      <th>eng_version</th>\n",
       "      <th>Genres</th>\n",
       "    </tr>\n",
       "  </thead>\n",
       "  <tbody>\n",
       "    <tr>\n",
       "      <th>3971</th>\n",
       "      <td>Fullmetal Alchemist:Brotherhood</td>\n",
       "      <td>Action, Military, Adventure, Comedy, Drama, Ma...</td>\n",
       "    </tr>\n",
       "    <tr>\n",
       "      <th>5683</th>\n",
       "      <td>Steins;Gate</td>\n",
       "      <td>Thriller, Sci-Fi</td>\n",
       "    </tr>\n",
       "    <tr>\n",
       "      <th>14963</th>\n",
       "      <td>Attack on Titan Season 3 Part 2</td>\n",
       "      <td>Action, Drama, Fantasy, Military, Mystery, Sho...</td>\n",
       "    </tr>\n",
       "    <tr>\n",
       "      <th>9913</th>\n",
       "      <td>Gintama Season 4</td>\n",
       "      <td>Action, Comedy, Historical, Parody, Samurai, S...</td>\n",
       "    </tr>\n",
       "    <tr>\n",
       "      <th>6006</th>\n",
       "      <td>Gintama Season 2</td>\n",
       "      <td>Action, Sci-Fi, Comedy, Historical, Parody, Sa...</td>\n",
       "    </tr>\n",
       "    <tr>\n",
       "      <th>...</th>\n",
       "      <td>...</td>\n",
       "      <td>...</td>\n",
       "    </tr>\n",
       "    <tr>\n",
       "      <th>4003</th>\n",
       "      <td>First Squad:The Moment of Truth</td>\n",
       "      <td>Action, Historical, Military, Super Power, Sup...</td>\n",
       "    </tr>\n",
       "    <tr>\n",
       "      <th>512</th>\n",
       "      <td>NaN</td>\n",
       "      <td>Drama, Romance, School, Supernatural</td>\n",
       "    </tr>\n",
       "    <tr>\n",
       "      <th>745</th>\n",
       "      <td>NaN</td>\n",
       "      <td>Comedy, Ecchi, Magic, Romance, School</td>\n",
       "    </tr>\n",
       "    <tr>\n",
       "      <th>623</th>\n",
       "      <td>Koi Koi Seven</td>\n",
       "      <td>Comedy, Harem, Romance</td>\n",
       "    </tr>\n",
       "    <tr>\n",
       "      <th>2271</th>\n",
       "      <td>School Days</td>\n",
       "      <td>Harem, Drama, Romance, School</td>\n",
       "    </tr>\n",
       "  </tbody>\n",
       "</table>\n",
       "<p>574 rows × 2 columns</p>\n",
       "</div>"
      ],
      "text/plain": [
       "                           eng_version  \\\n",
       "3971   Fullmetal Alchemist:Brotherhood   \n",
       "5683                       Steins;Gate   \n",
       "14963  Attack on Titan Season 3 Part 2   \n",
       "9913                  Gintama Season 4   \n",
       "6006                  Gintama Season 2   \n",
       "...                                ...   \n",
       "4003   First Squad:The Moment of Truth   \n",
       "512                                NaN   \n",
       "745                                NaN   \n",
       "623                      Koi Koi Seven   \n",
       "2271                       School Days   \n",
       "\n",
       "                                                  Genres  \n",
       "3971   Action, Military, Adventure, Comedy, Drama, Ma...  \n",
       "5683                                    Thriller, Sci-Fi  \n",
       "14963  Action, Drama, Fantasy, Military, Mystery, Sho...  \n",
       "9913   Action, Comedy, Historical, Parody, Samurai, S...  \n",
       "6006   Action, Sci-Fi, Comedy, Historical, Parody, Sa...  \n",
       "...                                                  ...  \n",
       "4003   Action, Historical, Military, Super Power, Sup...  \n",
       "512                 Drama, Romance, School, Supernatural  \n",
       "745                Comedy, Ecchi, Magic, Romance, School  \n",
       "623                               Comedy, Harem, Romance  \n",
       "2271                       Harem, Drama, Romance, School  \n",
       "\n",
       "[574 rows x 2 columns]"
      ]
     },
     "execution_count": 94,
     "metadata": {},
     "output_type": "execute_result"
    }
   ],
   "source": [
    "get_user_preferences(8408, rating_df, df, plot=True)"
   ]
  },
  {
   "cell_type": "markdown",
   "id": "ad1a3293",
   "metadata": {},
   "source": [
    "### Generate Anime Recommendations for a User Based on Similar Users\n",
    "\n",
    "This function uses collaborative filtering (user-based) to recommend new animes to a target user. It works by:\n",
    "- Fetching top-rated animes from similar users.\n",
    "- Removing those animes the target user already watched.\n",
    "- Counting how frequently each unseen anime appears in similar users' top picks.\n",
    "- Recommending the most commonly loved animes with their genres and synopsis.\n"
   ]
  },
  {
   "cell_type": "code",
   "execution_count": null,
   "id": "eed7fcd0",
   "metadata": {},
   "outputs": [],
   "source": [
    "def get_user_recommendations(\n",
    "    similar_users, user_pref, df, synopsis_df, rating_df, n=10\n",
    "):\n",
    "    recommended_animes = []  # Final list of recommended anime dictionaries\n",
    "    anime_list = []  # Temp list to collect anime names from similar users\n",
    "\n",
    "    # 🔁 Loop through each similar user's ID\n",
    "    for user_id in similar_users.similar_users.values:\n",
    "        # 🔍 Get top-rated animes for this user\n",
    "        pref_list = get_user_preferences(int(user_id), rating_df, df)\n",
    "\n",
    "        # ❌ Remove animes already watched by the main user\n",
    "        pref_list = pref_list[~pref_list.eng_version.isin(user_pref.eng_version.values)]\n",
    "\n",
    "        # ✅ If this user has some unique preferences, add them\n",
    "        if not pref_list.empty:\n",
    "            anime_list.append(pref_list.eng_version.values)\n",
    "\n",
    "    if anime_list:\n",
    "        # 🧱 Flatten the list and count frequency of each anime\n",
    "        anime_list = pd.DataFrame(anime_list)\n",
    "        sorted_list = pd.DataFrame(\n",
    "            pd.Series(anime_list.values.ravel()).value_counts()\n",
    "        ).head(n)  # Keep top-N most frequent animes\n",
    "\n",
    "        # 🔄 For each popular unseen anime, enrich with metadata\n",
    "        for i, anime_name in enumerate(sorted_list.index):\n",
    "            n_user_pref = sorted_list[sorted_list.index == anime_name].values[0][0]\n",
    "\n",
    "            if isinstance(anime_name, str):\n",
    "                frame = getAnimeFrame(anime_name, df)\n",
    "                anime_id = frame.anime_id.values[0]\n",
    "                genre = frame.Genres.values[0]\n",
    "                synopsis = getSynopsis(int(anime_id), synopsis_df)\n",
    "\n",
    "                recommended_animes.append(\n",
    "                    {\n",
    "                        \"n\": n_user_pref,\n",
    "                        \"anime_name\": anime_name,\n",
    "                        \"Genres\": genre,\n",
    "                        \"Synopsis\": synopsis,\n",
    "                    }\n",
    "                )\n",
    "\n",
    "    return pd.DataFrame(recommended_animes).head(n)  # Final recommendations"
   ]
  },
  {
   "cell_type": "markdown",
   "id": "c70f9655",
   "metadata": {},
   "source": [
    "##### Find Similar Users:"
   ]
  },
  {
   "cell_type": "code",
   "execution_count": null,
   "id": "ddcd5962",
   "metadata": {},
   "outputs": [],
   "source": [
    "similar_users = find_similar_users(\n",
    "    int(8408), user_weights, user2user_encoded, user2user_decoded\n",
    ")"
   ]
  },
  {
   "cell_type": "markdown",
   "id": "77cdd7a4",
   "metadata": {},
   "source": [
    "+ Finds users most similar to user 8408 based on user embedding vectors."
   ]
  },
  {
   "cell_type": "markdown",
   "id": "a8ee56c1",
   "metadata": {},
   "source": [
    "##### Get User Preferences:"
   ]
  },
  {
   "cell_type": "code",
   "execution_count": 96,
   "id": "79ba16a2",
   "metadata": {},
   "outputs": [],
   "source": [
    "user_pref = get_user_preferences(8408, rating_df, df, plot=False)"
   ]
  },
  {
   "cell_type": "markdown",
   "id": "ccf8d6bf",
   "metadata": {},
   "source": [
    "+ Fetches top-rated animes (above 75th percentile) by user 8408."
   ]
  },
  {
   "cell_type": "markdown",
   "id": "d634adc9",
   "metadata": {},
   "source": [
    "##### Get Recommendations:"
   ]
  },
  {
   "cell_type": "code",
   "execution_count": 99,
   "id": "34aaeb77",
   "metadata": {},
   "outputs": [
    {
     "data": {
      "text/html": [
       "<div>\n",
       "<style scoped>\n",
       "    .dataframe tbody tr th:only-of-type {\n",
       "        vertical-align: middle;\n",
       "    }\n",
       "\n",
       "    .dataframe tbody tr th {\n",
       "        vertical-align: top;\n",
       "    }\n",
       "\n",
       "    .dataframe thead th {\n",
       "        text-align: right;\n",
       "    }\n",
       "</style>\n",
       "<table border=\"1\" class=\"dataframe\">\n",
       "  <thead>\n",
       "    <tr style=\"text-align: right;\">\n",
       "      <th></th>\n",
       "      <th>n</th>\n",
       "      <th>anime_name</th>\n",
       "      <th>Genres</th>\n",
       "      <th>Synopsis</th>\n",
       "    </tr>\n",
       "  </thead>\n",
       "  <tbody>\n",
       "    <tr>\n",
       "      <th>0</th>\n",
       "      <td>11</td>\n",
       "      <td>Amagami SS</td>\n",
       "      <td>Slice of Life, Comedy, Romance, School</td>\n",
       "      <td>Two years ago, Junichi Tachibana had a date on...</td>\n",
       "    </tr>\n",
       "    <tr>\n",
       "      <th>1</th>\n",
       "      <td>10</td>\n",
       "      <td>Gurren Lagann</td>\n",
       "      <td>Action, Adventure, Comedy, Mecha, Sci-Fi</td>\n",
       "      <td>Simon and Kamina were born and raised in a dee...</td>\n",
       "    </tr>\n",
       "    <tr>\n",
       "      <th>2</th>\n",
       "      <td>8</td>\n",
       "      <td>Good Luck! Ninomiya-kun</td>\n",
       "      <td>Harem, Comedy, Ecchi, Fantasy</td>\n",
       "      <td>Shungo Ninomiya is just an ordinary, run-of-th...</td>\n",
       "    </tr>\n",
       "    <tr>\n",
       "      <th>3</th>\n",
       "      <td>7</td>\n",
       "      <td>Genshiken 2</td>\n",
       "      <td>Comedy, Parody, Slice of Life</td>\n",
       "      <td>The Society for the Study of Modern Visual Cul...</td>\n",
       "    </tr>\n",
       "    <tr>\n",
       "      <th>4</th>\n",
       "      <td>7</td>\n",
       "      <td>Hatsukoi Limited</td>\n",
       "      <td>Comedy, Romance, School, Shounen</td>\n",
       "      <td>series relating the intertwined stories about ...</td>\n",
       "    </tr>\n",
       "    <tr>\n",
       "      <th>5</th>\n",
       "      <td>7</td>\n",
       "      <td>Ladies versus Butlers!</td>\n",
       "      <td>Harem, Comedy, Romance, Ecchi, School</td>\n",
       "      <td>Hino Akiharu lost his parents when he was smal...</td>\n",
       "    </tr>\n",
       "    <tr>\n",
       "      <th>6</th>\n",
       "      <td>7</td>\n",
       "      <td>Yamada's First Time:B Gata H Kei</td>\n",
       "      <td>Comedy, Ecchi, Romance, School, Seinen</td>\n",
       "      <td>ost people, including the girl herself, would ...</td>\n",
       "    </tr>\n",
       "    <tr>\n",
       "      <th>7</th>\n",
       "      <td>7</td>\n",
       "      <td>Fate/stay night</td>\n",
       "      <td>Action, Supernatural, Magic, Romance, Fantasy</td>\n",
       "      <td>fter a mysterious inferno kills his family, Sh...</td>\n",
       "    </tr>\n",
       "    <tr>\n",
       "      <th>8</th>\n",
       "      <td>7</td>\n",
       "      <td>Bakuman.</td>\n",
       "      <td>Comedy, Drama, Romance, Shounen</td>\n",
       "      <td>Onto their third serialization, manga duo Mori...</td>\n",
       "    </tr>\n",
       "    <tr>\n",
       "      <th>9</th>\n",
       "      <td>7</td>\n",
       "      <td>Nisekoi:False Love</td>\n",
       "      <td>Harem, Comedy, Romance, School, Shounen</td>\n",
       "      <td>aku Ichijou, a first-year student at Bonyari H...</td>\n",
       "    </tr>\n",
       "  </tbody>\n",
       "</table>\n",
       "</div>"
      ],
      "text/plain": [
       "    n                        anime_name  \\\n",
       "0  11                        Amagami SS   \n",
       "1  10                     Gurren Lagann   \n",
       "2   8           Good Luck! Ninomiya-kun   \n",
       "3   7                       Genshiken 2   \n",
       "4   7                  Hatsukoi Limited   \n",
       "5   7            Ladies versus Butlers!   \n",
       "6   7  Yamada's First Time:B Gata H Kei   \n",
       "7   7                   Fate/stay night   \n",
       "8   7                          Bakuman.   \n",
       "9   7                Nisekoi:False Love   \n",
       "\n",
       "                                          Genres  \\\n",
       "0         Slice of Life, Comedy, Romance, School   \n",
       "1       Action, Adventure, Comedy, Mecha, Sci-Fi   \n",
       "2                  Harem, Comedy, Ecchi, Fantasy   \n",
       "3                  Comedy, Parody, Slice of Life   \n",
       "4               Comedy, Romance, School, Shounen   \n",
       "5          Harem, Comedy, Romance, Ecchi, School   \n",
       "6         Comedy, Ecchi, Romance, School, Seinen   \n",
       "7  Action, Supernatural, Magic, Romance, Fantasy   \n",
       "8                Comedy, Drama, Romance, Shounen   \n",
       "9        Harem, Comedy, Romance, School, Shounen   \n",
       "\n",
       "                                            Synopsis  \n",
       "0  Two years ago, Junichi Tachibana had a date on...  \n",
       "1  Simon and Kamina were born and raised in a dee...  \n",
       "2  Shungo Ninomiya is just an ordinary, run-of-th...  \n",
       "3  The Society for the Study of Modern Visual Cul...  \n",
       "4  series relating the intertwined stories about ...  \n",
       "5  Hino Akiharu lost his parents when he was smal...  \n",
       "6  ost people, including the girl herself, would ...  \n",
       "7  fter a mysterious inferno kills his family, Sh...  \n",
       "8  Onto their third serialization, manga duo Mori...  \n",
       "9  aku Ichijou, a first-year student at Bonyari H...  "
      ]
     },
     "execution_count": 99,
     "metadata": {},
     "output_type": "execute_result"
    }
   ],
   "source": [
    "get_user_recommendations(similar_users, user_pref, df, synopsis_df, rating_df, n=10)"
   ]
  },
  {
   "cell_type": "markdown",
   "id": "ccf83e00",
   "metadata": {},
   "source": [
    "+ Recommends 10 anime most frequently liked by similar users, but not watched by user 8408."
   ]
  },
  {
   "cell_type": "markdown",
   "id": "35f78351",
   "metadata": {},
   "source": [
    "##### Visual Display"
   ]
  },
  {
   "cell_type": "code",
   "execution_count": null,
   "id": "c76097fe",
   "metadata": {},
   "outputs": [
    {
     "name": "stdout",
     "output_type": "stream",
     "text": [
      "\n",
      "🎬 **Amagami SS**\n",
      "📚 Genre: Slice of Life, Comedy, Romance, School\n",
      "📝 Synopsis: Two years ago, Junichi Tachibana had a date on Christmas Eve but was stood up instead. Since then, he has had a hard time showing others his true feelings in fear of being rejected again. However, as luck would have it, Junichi may have a second chance at love when he meets several girls whom he bec...\n",
      "\n",
      "🎬 **Gurren Lagann**\n",
      "📚 Genre: Action, Adventure, Comedy, Mecha, Sci-Fi\n",
      "📝 Synopsis: Simon and Kamina were born and raised in a deep, underground village, hidden from the fabled surface. Kamina is a free-spirited loose cannon bent on making a name for himself, while Simon is a timid young boy with no real aspirations. One day while excavating the earth, Simon stumbles upon a mysteri...\n",
      "\n",
      "🎬 **Good Luck! Ninomiya-kun**\n",
      "📚 Genre: Harem, Comedy, Ecchi, Fantasy\n",
      "📝 Synopsis: Shungo Ninomiya is just an ordinary, run-of-the-mill high school student who lives at home with his older sister Ryoko—at least when she's not away doing her job as a mercenary. However, Shungo's life ceases to be normal the moment a cute girl named Mayu Tsukimura descends into the middle of his sch...\n",
      "\n",
      "🎬 **Genshiken 2**\n",
      "📚 Genre: Comedy, Parody, Slice of Life\n",
      "📝 Synopsis: The Society for the Study of Modern Visual Culture, otherwise known as Genshiken, is now under the charge of a more confident Sasahara. Things have changed in between semesters, and the otaku club now has a new otaku-hating member named Ogiue. Sasahara's initial goal of starting a doujin circle and ...\n",
      "\n",
      "🎬 **Hatsukoi Limited**\n",
      "📚 Genre: Comedy, Romance, School, Shounen\n",
      "📝 Synopsis: series relating the intertwined stories about the \"first loves\" of several middle-schoolers and high-schoolers. Each episode tends to focus on a different character, however the developments established during previous episodes continue to play smaller roles in those following. As the series progres...\n",
      "\n",
      "🎬 **Ladies versus Butlers!**\n",
      "📚 Genre: Harem, Comedy, Romance, Ecchi, School\n",
      "📝 Synopsis: Hino Akiharu lost his parents when he was small and was adopted into his uncle's family. He didn't want to be a burden on his uncle's family and decides to enter a free boarding school as a butler, Hakureiryou high school. However, his delinquent boy-like appearance frightens the girls, who make up ...\n",
      "\n",
      "🎬 **Yamada's First Time:B Gata H Kei**\n",
      "📚 Genre: Comedy, Ecchi, Romance, School, Seinen\n",
      "📝 Synopsis: ost people, including the girl herself, would say that first year high school student Yamada is beautiful and perfect. Despite this, she is working towards a peculiar goal: to have sex with one hundred men by the end of high school. Trying to put some sense into her head, Yamada's best friend, Mihar...\n",
      "\n",
      "🎬 **Fate/stay night**\n",
      "📚 Genre: Action, Supernatural, Magic, Romance, Fantasy\n",
      "📝 Synopsis: fter a mysterious inferno kills his family, Shirou is saved and adopted by Kiritsugu Emiya, who teaches him the ways of magic and justice. One night, years after Kiritsugu's death, Shirou is cleaning at school, when he finds himself caught in the middle of a deadly encounter between two superhumans ...\n",
      "\n",
      "🎬 **Bakuman.**\n",
      "📚 Genre: Comedy, Drama, Romance, Shounen\n",
      "📝 Synopsis: Onto their third serialization, manga duo Moritaka Mashiro and Akito Takagi—also known by their pen name, Muto Ashirogi—are ever closer to their dream of an anime adaption. However, the real challenge is only just beginning: if they are unable to compete with the artist Eiji Niizuma in the rankings ...\n",
      "\n",
      "🎬 **Nisekoi:False Love**\n",
      "📚 Genre: Harem, Comedy, Romance, School, Shounen\n",
      "📝 Synopsis: aku Ichijou, a first-year student at Bonyari High School, is the sole heir to an intimidating yakuza family. Ten years ago, Raku made a promise to his childhood friend. Now, all he has to go on is a pendant with a lock, which can only be unlocked with the key which the girl took with her when they p...\n"
     ]
    }
   ],
   "source": [
    "df_recommendations = get_user_recommendations(\n",
    "    similar_users, user_pref, df, synopsis_df, rating_df, n=10\n",
    ")\n",
    "\n",
    "for i, row in df_recommendations.iterrows():\n",
    "    print(f\"\\n🎬 **{row['anime_name']}**\")\n",
    "    print(f\"📚 Genre: {row['Genres']}\")\n",
    "    print(f\"📝 Synopsis: {row['Synopsis'][:300]}...\")"
   ]
  },
  {
   "cell_type": "markdown",
   "id": "ed78f82b",
   "metadata": {},
   "source": [
    "## HYBRID RECOMMENDER SYSTEM\n",
    "\n",
    "- This function combines:\n",
    "\n",
    "   + 👥 User-based collaborative filtering\n",
    "   \n",
    "   + 📺 Content-based recommendation"
   ]
  },
  {
   "cell_type": "markdown",
   "id": "685ee636",
   "metadata": {},
   "source": [
    "##### Output Behavior\n",
    "- If:\n",
    "     + user_weight = 1.0, you'll only get user-based recs\n",
    "\n",
    "     + content_weight = 1.0, you'll only get content-based recs\n",
    "     \n",
    "     + Both = 0.5 → hybrid of both types"
   ]
  },
  {
   "cell_type": "code",
   "execution_count": null,
   "id": "78260d2f",
   "metadata": {},
   "outputs": [],
   "source": [
    "def hybrid_recommendation(\n",
    "    user_id, user_weight=0.5, content_weight=0.5, top_n=10, verbose=True\n",
    "):\n",
    "    \"\"\"\n",
    "    Hybrid Recommendation System: Combines User-Based and Content-Based filtering\n",
    "    using weighted scoring.\n",
    "\n",
    "    Parameters:\n",
    "    - user_id: ID of the user for whom recommendations are generated\n",
    "    - user_weight: weight assigned to user-based recommendations\n",
    "    - content_weight: weight assigned to content-based recommendations\n",
    "    - top_n: number of top recommendations to return\n",
    "    - verbose: if True, prints intermediate outputs\n",
    "\n",
    "    Returns:\n",
    "    - DataFrame with top N hybrid recommended anime along with score breakdown\n",
    "    \"\"\"\n",
    "\n",
    "    # --- USER-BASED RECOMMENDATION ---\n",
    "\n",
    "    # Step 1: Find users similar to the target user based on embedding similarity\n",
    "    similar_users = find_similar_users(\n",
    "        user_id, user_weights, user2user_encoded, user2user_decoded\n",
    "    )\n",
    "\n",
    "    # Step 2: Get the user's top-preference genres/anime\n",
    "    user_pref = get_user_preferences(user_id, rating_df, df)\n",
    "\n",
    "    # Step 3: Recommend anime that similar users liked, excluding already seen ones\n",
    "    user_recommended_animes = get_user_recommendations(\n",
    "        similar_users, user_pref, df, synopsis_df, rating_df\n",
    "    )\n",
    "\n",
    "    # Convert user-based recommended anime to list\n",
    "    user_recommended_anime_list = user_recommended_animes[\"anime_name\"].tolist()\n",
    "\n",
    "    if verbose:\n",
    "        print(f\"\\n👥 User-based Recommendations ({len(user_recommended_anime_list)}):\")\n",
    "        print(user_recommended_anime_list)\n",
    "\n",
    "    # --- CONTENT-BASED RECOMMENDATION ---\n",
    "\n",
    "    # Step 4: For each anime in the user recommendation list, find similar animes\n",
    "    content_recommended_animes = []\n",
    "    for anime in user_recommended_anime_list:\n",
    "        similar_animes = find_similar_animes(\n",
    "            anime,\n",
    "            anime_weights,\n",
    "            anime2anime_encoded,\n",
    "            anime2anime_decoded,\n",
    "            df,\n",
    "            synopsis_df,\n",
    "        )\n",
    "\n",
    "        # If similar animes are found, extend the content recommendation list\n",
    "        if similar_animes is not None and not similar_animes.empty:\n",
    "            content_recommended_animes.extend(similar_animes[\"name\"].tolist())\n",
    "\n",
    "    if verbose:\n",
    "        print(\n",
    "            f\"\\n📺 Content-based Recommendations ({len(content_recommended_animes)}):\"\n",
    "        )\n",
    "        print(content_recommended_animes[:top_n])\n",
    "\n",
    "    # --- COMBINE SCORES FROM BOTH SOURCES ---\n",
    "\n",
    "    combined_scores = {}  # final score dictionary\n",
    "    source_breakdown = {}  # stores contribution from user/content for each anime\n",
    "\n",
    "    # Step 5: Add scores from user-based recommendations\n",
    "    for anime in user_recommended_anime_list:\n",
    "        combined_scores[anime] = combined_scores.get(anime, 0) + user_weight\n",
    "        source_breakdown.setdefault(anime, {\"user\": 0, \"content\": 0})\n",
    "        source_breakdown[anime][\"user\"] += user_weight\n",
    "\n",
    "    # Step 6: Add scores from content-based recommendations\n",
    "    for anime in content_recommended_animes:\n",
    "        combined_scores[anime] = combined_scores.get(anime, 0) + content_weight\n",
    "        source_breakdown.setdefault(anime, {\"user\": 0, \"content\": 0})\n",
    "        source_breakdown[anime][\"content\"] += content_weight\n",
    "\n",
    "    # --- SORT AND FORMAT FINAL OUTPUT ---\n",
    "\n",
    "    # Step 7: Sort all animes by final combined score\n",
    "    sorted_items = sorted(combined_scores.items(), key=lambda x: x[1], reverse=True)[\n",
    "        :top_n\n",
    "    ]\n",
    "\n",
    "    # Step 8: Build final recommendation DataFrame with scores and sources\n",
    "    final_recs = []\n",
    "    for anime, score in sorted_items:\n",
    "        breakdown = source_breakdown[anime]\n",
    "        try:\n",
    "            frame = getAnimeFrame(anime, df)\n",
    "            genre = frame.Genres.values[0]\n",
    "        except:\n",
    "            genre = \"Unknown\"\n",
    "\n",
    "        final_recs.append(\n",
    "            {\n",
    "                \"anime_name\": anime,\n",
    "                \"genre\": genre,\n",
    "                \"hybrid_score\": round(score, 2),\n",
    "                \"user_score\": round(breakdown[\"user\"], 2),\n",
    "                \"content_score\": round(breakdown[\"content\"], 2),\n",
    "            }\n",
    "        )\n",
    "    result_df = pd.DataFrame(final_recs)\n",
    "\n",
    "    # Step 9: Optionally print top recommendations\n",
    "    if verbose:\n",
    "        print(f\"\\n🔝 Top {top_n} Hybrid Recommendations:\\n\")\n",
    "        print(result_df.to_string(index=False))\n",
    "\n",
    "    # Step 10: Return final DataFrame\n",
    "    return result_df"
   ]
  },
  {
   "cell_type": "code",
   "execution_count": 133,
   "id": "e33c40f7",
   "metadata": {},
   "outputs": [
    {
     "name": "stdout",
     "output_type": "stream",
     "text": [
      "\n",
      "👥 User-based Recommendations (10):\n",
      "['Amagami SS', 'Gurren Lagann', 'Good Luck! Ninomiya-kun', 'Genshiken 2', 'Hatsukoi Limited', 'Ladies versus Butlers!', \"Yamada's First Time:B Gata H Kei\", 'Fate/stay night', 'Bakuman.', 'Nisekoi:False Love']\n",
      "\n",
      "📺 Content-based Recommendations (87):\n",
      "['Amagami SS+ plus', 'Aria the Scarlet Ammo', 'The World God Only Knows', \"Heaven's Memo Pad\", 'The Ambition of Oda Nobuna', 'Infinite Stratos', 'Koe de Oshigoto!', 'The World God Only Knows II', 'Campione!', 'Chrome Shelled Regios']\n",
      "\n",
      "🔝 Top 10 Hybrid Recommendations:\n",
      "\n",
      "                            anime_name                                                            genre  hybrid_score  user_score  content_score\n",
      "                Ladies versus Butlers!                            Harem, Comedy, Romance, Ecchi, School           1.5         0.5            1.0\n",
      "                              Bakuman.                                  Comedy, Drama, Romance, Shounen           1.5         0.5            1.0\n",
      "               Good Luck! Ninomiya-kun                                    Harem, Comedy, Ecchi, Fantasy           1.0         0.5            0.5\n",
      "                    Nisekoi:False Love                          Harem, Comedy, Romance, School, Shounen           1.0         0.5            0.5\n",
      "                      Amagami SS+ plus                           Slice of Life, Comedy, Romance, School           1.0         0.0            1.0\n",
      "                      Infinite Stratos                      Action, Sci-Fi, Harem, Comedy, Ecchi, Mecha           1.0         0.0            1.0\n",
      "   Code Geass:Lelouch of the Rebellion      Action, Military, Sci-Fi, Super Power, Drama, Mecha, School           1.0         0.0            1.0\n",
      "Code Geass:Lelouch of the Rebellion R2              Action, Military, Sci-Fi, Super Power, Drama, Mecha           1.0         0.0            1.0\n",
      "                             Genshiken                                    Slice of Life, Comedy, Parody           1.0         0.0            1.0\n",
      "                     Rosario + Vampire Harem, Comedy, Romance, Ecchi, Vampire, Fantasy, School, Shounen           1.0         0.0            1.0\n"
     ]
    }
   ],
   "source": [
    "result_df = hybrid_recommendation(user_id=8408, user_weight=0.5, content_weight=0.5)"
   ]
  },
  {
   "cell_type": "markdown",
   "id": "ba9365c0",
   "metadata": {},
   "source": [
    "#### `hybrid_score` (Final Score)\n",
    "\n",
    "The **total weighted score** for an anime, calculated by combining:\n",
    "\n",
    "- 👥 The **user-based score**\n",
    "- 📺 The **content-based score**\n",
    "\n",
    "#####  Formula:\n",
    "```python\n",
    "hybrid_score = user_score + content_score\n"
   ]
  },
  {
   "cell_type": "markdown",
   "id": "4c409d78",
   "metadata": {},
   "source": [
    "####  `user_score`\n",
    " + Score contribution based on similar users’ preferences.\n",
    " + If similar users liked an anime (and the target user hasn't seen it), it earns a user_weight score.\n",
    "\n",
    "##### Example:\n",
    "```python\n",
    "user_score += 0.5  # if user_weight = 0.5\n"
   ]
  },
  {
   "cell_type": "markdown",
   "id": "0d26d236",
   "metadata": {},
   "source": [
    "####  `content_score`\n",
    " + Score contribution based on similarity to animes the user liked — using features like genre, synopsis, and embeddings\n",
    "##### Example:\n",
    "```python\n",
    "content_score += 0.5  # if content_weight = 0.5"
   ]
  },
  {
   "cell_type": "markdown",
   "id": "22c7bdce",
   "metadata": {},
   "source": [
    "### Top Recommendations Explanations:"
   ]
  },
  {
   "cell_type": "markdown",
   "id": "fe8699cc",
   "metadata": {},
   "source": [
    "| Rank | Anime Name                                                                                  | Source Strength           | Notes                                                                                   |\n",
    "| ---- | ------------------------------------------------------------------------------------------- | ------------------------- | --------------------------------------------------------------------------------------- |\n",
    "| 1    | **Ladies versus Butlers!**                                                                  | 0.5 + 1.0 = **1.5** | Similar users liked it **and** it's similar to content user likes.                      |\n",
    "| 2    | **Bakuman.**                                                                                |  0.5 + 1.0 = **1.5** | Also strongly supported by both user and content signals.                               |\n",
    "| 3    | **Good Luck! Ninomiya-kun**                                                                 | 0.5 + 0.5 = **1.0** | Mid-strength on both sides.                                                             |\n",
    "| 4    | **Nisekoi\\:False Love**                                                                     | 0.5 + 0.5 = **1.0** | Balanced but not dominant in either source.                                             |\n",
    "| 5–10 | **Content-only hits** like:<br>Amagami SS+ plus, Infinite Stratos, Code Geass R1 & R2, etc. | 0.0 + 1.0 = **1.0** | These were **not liked by similar users** but are **very similar to content you like**. |\n"
   ]
  },
  {
   "cell_type": "code",
   "execution_count": null,
   "id": "b0cf4587",
   "metadata": {},
   "outputs": [],
   "source": []
  }
 ],
 "metadata": {
  "kernelspec": {
   "display_name": "venv",
   "language": "python",
   "name": "python3"
  },
  "language_info": {
   "codemirror_mode": {
    "name": "ipython",
    "version": 3
   },
   "file_extension": ".py",
   "mimetype": "text/x-python",
   "name": "python",
   "nbconvert_exporter": "python",
   "pygments_lexer": "ipython3",
   "version": "3.10.0"
  }
 },
 "nbformat": 4,
 "nbformat_minor": 5
}
